{
 "cells": [
  {
   "cell_type": "markdown",
   "metadata": {},
   "source": [
    "## Импорт библиотек и считывание файлов"
   ]
  },
  {
   "cell_type": "code",
   "execution_count": 58,
   "metadata": {},
   "outputs": [],
   "source": [
    "import pandas as pd\n",
    "import numpy as np\n",
    "import matplotlib.pyplot as plt\n",
    "import seaborn as sns\n",
    "from datetime import datetime"
   ]
  },
  {
   "cell_type": "markdown",
   "metadata": {},
   "source": [
    "Импортируем все 3 необходимых файла для проекта и сразу приводим необходимые даннные к формату даты."
   ]
  },
  {
   "cell_type": "code",
   "execution_count": 59,
   "metadata": {},
   "outputs": [],
   "source": [
    "customers_ids_df = pd.read_csv('olist_customers_dataset.csv')\n",
    "\n",
    "orders_df = pd.read_csv('olist_orders_dataset.csv', parse_dates=['order_purchase_timestamp',\n",
    "                                                                 'order_approved_at',\n",
    "                                                                 'order_delivered_carrier_date',\n",
    "                                                                 'order_delivered_customer_date',\n",
    "                                                                 'order_estimated_delivery_date'])\n",
    "\n",
    "products_df = pd.read_csv('olist_order_items_dataset.csv', parse_dates=['shipping_limit_date'])"
   ]
  },
  {
   "cell_type": "markdown",
   "metadata": {},
   "source": [
    "## Что мы считаем покупкой?"
   ]
  },
  {
   "cell_type": "markdown",
   "metadata": {},
   "source": [
    "### Наши критерии покупки"
   ]
  },
  {
   "cell_type": "markdown",
   "metadata": {},
   "source": [
    "Критерии покупки:\n",
    "\n",
    "1) За единицу покупки берется заказ (1 заказ = 1 покупка);\n",
    "\n",
    "2) Заказ должен быть завершен (мы рассматриваем только \"delivered\" в качестве завершенного статуса. в остальных случаях заказ могут отменить или заказ может быть недоступен для отправки - в таком случае мы обязаны будем вернуть деньги);\n",
    "\n",
    "3) Заказ не должен закончиться возвратом денег (собственно во 2 пункте было описано, что статусы \"canceled\" и \"unavailable\" ненужно учитывать - они приводят к возврату денег);\n",
    "\n",
    "4) Заказ должен быть оплачен (любая покупка сводится к получению денег. отслеживаем это по \"order_approved_at\". если заполнена дата - заказ оплачен, не заполнена дата - заказ не оплачен);\n",
    "\n",
    "5) Заказ должен содержать товары, выбранные покупателем (если в таблице из \"olist_order_items_dataset.csv\" не окажется товарных позиций по заказу, то такие заказы нельзя считать покупкой. такие данные либо являются неполными либо некоторые заказы были тестовыми и т.д. при анализе данных есть риск неправильно их интерпретировать. также нет данных ценных данных о цене товара и сумме заказа.)."
   ]
  },
  {
   "cell_type": "markdown",
   "metadata": {},
   "source": [
    "### Логическая последовательность статусов заказа"
   ]
  },
  {
   "cell_type": "markdown",
   "metadata": {},
   "source": [
    "Логическая последовательность статусов заказа:\n",
    "\n",
    "1) created ('создан') - незавершенный статус;\n",
    "\n",
    "2) approved ('подтверждён') - незавершенный статус;\n",
    "\n",
    "3) invoiced ('выставлен счёт') - незавершенный статус;\n",
    "\n",
    "4) processing ('в процессе сборки заказа') - незавершенный статус;\n",
    "\n",
    "5) shipped ('отгружен со склада') - незавершенный статус;\n",
    "\n",
    "6) delivered ('доставлен пользователю') - завершенный статус.\n",
    "\n",
    "Статусы без четкой последовательности:\n",
    "\n",
    "1) unavailable ('недоступен') - завершенный статус (логически может появляться на разных этапах работы с заказом);\n",
    "\n",
    "2) canceled ('отменён') - завершенный статус (может возникнуть на любом этапе работы с заказом)."
   ]
  },
  {
   "cell_type": "markdown",
   "metadata": {},
   "source": [
    "### Особенности данных"
   ]
  },
  {
   "cell_type": "markdown",
   "metadata": {},
   "source": [
    "Особенности:\n",
    "\n",
    "1) У нас мало вводных о данных - что заставляет нас полагаться только на исследование данных и логику построения процееса обработки заказа;\n",
    "\n",
    "2) Если сравнить order_approved_at ('время подтверждения оплаты заказа') с другими временными сериями то можно заметить, что оплата может возникнуть на самых разных этапах работы с заказом... (возможно присутствуют разные формы оплаты);\n",
    "\n",
    "3) Не по всем заказам, указаны товары в 3 файле ('olist_order_items_dataset.csv')... (обычно такое встречается когда не все данные выгрузили либо часть данных утеряна вбазе данных);\n",
    "\n",
    "4) Если сравнить серию \"order_purchase_timestamp\" с \"order_delivered_customer_date\", то можно узнать, что доставка закзов может происходить очень долго ( либо кто-то плохо сгенерировал данные:) ) - 200+ дней... поэтому висящие статусы \"created', \"approved\", \"invoiced\", \"processing\", \"shipped\" - могут как отражать проблемы обработки заказа и доставки, так и не означать ничего (из-за огромных таймингов)."
   ]
  },
  {
   "cell_type": "markdown",
   "metadata": {},
   "source": [
    "Ниже наглядно приведены показатели разницы между датами по 4 пункту."
   ]
  },
  {
   "cell_type": "code",
   "execution_count": 60,
   "metadata": {},
   "outputs": [
    {
     "data": {
      "text/html": [
       "<div>\n",
       "<style scoped>\n",
       "    .dataframe tbody tr th:only-of-type {\n",
       "        vertical-align: middle;\n",
       "    }\n",
       "\n",
       "    .dataframe tbody tr th {\n",
       "        vertical-align: top;\n",
       "    }\n",
       "\n",
       "    .dataframe thead th {\n",
       "        text-align: right;\n",
       "    }\n",
       "</style>\n",
       "<table border=\"1\" class=\"dataframe\">\n",
       "  <thead>\n",
       "    <tr style=\"text-align: right;\">\n",
       "      <th></th>\n",
       "      <th>days_to_delivery</th>\n",
       "    </tr>\n",
       "  </thead>\n",
       "  <tbody>\n",
       "    <tr>\n",
       "      <th>count</th>\n",
       "      <td>96476.000000</td>\n",
       "    </tr>\n",
       "    <tr>\n",
       "      <th>mean</th>\n",
       "      <td>12.094086</td>\n",
       "    </tr>\n",
       "    <tr>\n",
       "      <th>std</th>\n",
       "      <td>9.551746</td>\n",
       "    </tr>\n",
       "    <tr>\n",
       "      <th>min</th>\n",
       "      <td>0.000000</td>\n",
       "    </tr>\n",
       "    <tr>\n",
       "      <th>25%</th>\n",
       "      <td>6.000000</td>\n",
       "    </tr>\n",
       "    <tr>\n",
       "      <th>50%</th>\n",
       "      <td>10.000000</td>\n",
       "    </tr>\n",
       "    <tr>\n",
       "      <th>75%</th>\n",
       "      <td>15.000000</td>\n",
       "    </tr>\n",
       "    <tr>\n",
       "      <th>max</th>\n",
       "      <td>209.000000</td>\n",
       "    </tr>\n",
       "  </tbody>\n",
       "</table>\n",
       "</div>"
      ],
      "text/plain": [
       "       days_to_delivery\n",
       "count      96476.000000\n",
       "mean          12.094086\n",
       "std            9.551746\n",
       "min            0.000000\n",
       "25%            6.000000\n",
       "50%           10.000000\n",
       "75%           15.000000\n",
       "max          209.000000"
      ]
     },
     "execution_count": 60,
     "metadata": {},
     "output_type": "execute_result"
    }
   ],
   "source": [
    "# Разница между датой доставки пользователю и датой создания заказа.\n",
    "total_number_days_df = pd.DataFrame()\n",
    "total_number_days_df['days_to_delivery'] = (orders_df['order_delivered_customer_date'] - orders_df['order_purchase_timestamp']).dt.days\n",
    "total_number_days_df = total_number_days_df.loc[~total_number_days_df['days_to_delivery'].isna()]\n",
    "total_number_days_df.describe()"
   ]
  },
  {
   "cell_type": "code",
   "execution_count": 61,
   "metadata": {},
   "outputs": [
    {
     "data": {
      "text/html": [
       "<div>\n",
       "<style scoped>\n",
       "    .dataframe tbody tr th:only-of-type {\n",
       "        vertical-align: middle;\n",
       "    }\n",
       "\n",
       "    .dataframe tbody tr th {\n",
       "        vertical-align: top;\n",
       "    }\n",
       "\n",
       "    .dataframe thead th {\n",
       "        text-align: right;\n",
       "    }\n",
       "</style>\n",
       "<table border=\"1\" class=\"dataframe\">\n",
       "  <thead>\n",
       "    <tr style=\"text-align: right;\">\n",
       "      <th></th>\n",
       "      <th>days_to_delivery</th>\n",
       "    </tr>\n",
       "  </thead>\n",
       "  <tbody>\n",
       "    <tr>\n",
       "      <th>count</th>\n",
       "      <td>96475.000000</td>\n",
       "    </tr>\n",
       "    <tr>\n",
       "      <th>mean</th>\n",
       "      <td>8.878310</td>\n",
       "    </tr>\n",
       "    <tr>\n",
       "      <th>std</th>\n",
       "      <td>8.746088</td>\n",
       "    </tr>\n",
       "    <tr>\n",
       "      <th>min</th>\n",
       "      <td>-17.000000</td>\n",
       "    </tr>\n",
       "    <tr>\n",
       "      <th>25%</th>\n",
       "      <td>4.000000</td>\n",
       "    </tr>\n",
       "    <tr>\n",
       "      <th>50%</th>\n",
       "      <td>7.000000</td>\n",
       "    </tr>\n",
       "    <tr>\n",
       "      <th>75%</th>\n",
       "      <td>12.000000</td>\n",
       "    </tr>\n",
       "    <tr>\n",
       "      <th>max</th>\n",
       "      <td>205.000000</td>\n",
       "    </tr>\n",
       "  </tbody>\n",
       "</table>\n",
       "</div>"
      ],
      "text/plain": [
       "       days_to_delivery\n",
       "count      96475.000000\n",
       "mean           8.878310\n",
       "std            8.746088\n",
       "min          -17.000000\n",
       "25%            4.000000\n",
       "50%            7.000000\n",
       "75%           12.000000\n",
       "max          205.000000"
      ]
     },
     "execution_count": 61,
     "metadata": {},
     "output_type": "execute_result"
    }
   ],
   "source": [
    "# Разница между датой доставки пользователю и датой доставки в кульерскую службу.\n",
    "total_number_delivery_days_df = pd.DataFrame()\n",
    "total_number_delivery_days_df['days_to_delivery'] = (orders_df['order_delivered_customer_date'] - orders_df['order_delivered_carrier_date']).dt.days\n",
    "total_number_delivery_days_df = total_number_delivery_days_df.loc[~total_number_delivery_days_df['days_to_delivery'].isna()]\n",
    "total_number_delivery_days_df.describe()"
   ]
  },
  {
   "cell_type": "markdown",
   "metadata": {},
   "source": [
    "## Задание №1"
   ]
  },
  {
   "cell_type": "markdown",
   "metadata": {},
   "source": [
    "### Цель задания"
   ]
  },
  {
   "cell_type": "markdown",
   "metadata": {},
   "source": [
    "Сколько у нас пользователей, которые совершили покупку только один раз?"
   ]
  },
  {
   "cell_type": "markdown",
   "metadata": {},
   "source": [
    "### Решение"
   ]
  },
  {
   "cell_type": "markdown",
   "metadata": {},
   "source": [
    "Исходя из наших критериев покупки приступим к выполнению задачи.\n",
    "\n",
    "Первым делом нам необходимо отфильтровать датафрейм с заказами исходя из наших критериев покупки, после чего сохранить эти строки в новой переменной purchases_df ('покупки')."
   ]
  },
  {
   "cell_type": "code",
   "execution_count": 62,
   "metadata": {},
   "outputs": [
    {
     "data": {
      "text/html": [
       "<div>\n",
       "<style scoped>\n",
       "    .dataframe tbody tr th:only-of-type {\n",
       "        vertical-align: middle;\n",
       "    }\n",
       "\n",
       "    .dataframe tbody tr th {\n",
       "        vertical-align: top;\n",
       "    }\n",
       "\n",
       "    .dataframe thead th {\n",
       "        text-align: right;\n",
       "    }\n",
       "</style>\n",
       "<table border=\"1\" class=\"dataframe\">\n",
       "  <thead>\n",
       "    <tr style=\"text-align: right;\">\n",
       "      <th></th>\n",
       "      <th>order_status</th>\n",
       "      <th>order_purchase_timestamp</th>\n",
       "      <th>order_approved_at</th>\n",
       "      <th>order_delivered_carrier_date</th>\n",
       "      <th>order_delivered_customer_date</th>\n",
       "    </tr>\n",
       "  </thead>\n",
       "  <tbody>\n",
       "    <tr>\n",
       "      <th>0</th>\n",
       "      <td>delivered</td>\n",
       "      <td>96456</td>\n",
       "      <td>96456</td>\n",
       "      <td>96455</td>\n",
       "      <td>96456</td>\n",
       "    </tr>\n",
       "  </tbody>\n",
       "</table>\n",
       "</div>"
      ],
      "text/plain": [
       "  order_status  order_purchase_timestamp  order_approved_at  \\\n",
       "0    delivered                     96456              96456   \n",
       "\n",
       "   order_delivered_carrier_date  order_delivered_customer_date  \n",
       "0                         96455                          96456  "
      ]
     },
     "execution_count": 62,
     "metadata": {},
     "output_type": "execute_result"
    }
   ],
   "source": [
    "# Cоздаем список статусов, которые надо учитывать.\n",
    "included_statuses = ['delivered']\n",
    "\n",
    "# Оставляем все строки с удовлетворяющими нас статусами и непустыми значениями в 'order_approved_at'.\n",
    "purchases_df = orders_df.loc[orders_df['order_status'].isin(included_statuses) & orders_df['order_approved_at'].notna()]\n",
    "\n",
    "# Cоздаем серию номеров заказов из датафрейма с товарами и удаляем дубликаты.\n",
    "orders_with_products_df = products_df[['order_id']].drop_duplicates()\n",
    "\n",
    "# Оставляем только те заказы в датафрейме покупок, по которым есть информация о наличии товаров.\n",
    "purchases_df = purchases_df.loc[purchases_df['order_id'].isin(orders_with_products_df['order_id'])]\n",
    "\n",
    "# Убираем некоректные статусы 'delivered', у которых отсутствует дата доставки (эти заказы могут являться ошибкой в базе данных).\n",
    "purchases_df = purchases_df.loc[purchases_df['order_delivered_customer_date'].notna()]\n",
    "\n",
    "# Проверяем получившийся датафрейм покупок.\n",
    "purchases_df[['order_status',\n",
    "              'order_purchase_timestamp',\n",
    "              'order_approved_at',\n",
    "              'order_delivered_carrier_date',\n",
    "              'order_delivered_customer_date']].groupby('order_status', as_index=False).count()"
   ]
  },
  {
   "cell_type": "markdown",
   "metadata": {},
   "source": [
    "Теперь у нас есть необходимый датафрейм, который включает только покупки.\n",
    "\n",
    "Следующим шагом нужно будет объединить данные о покупках с данными о пользователях (позволит нам понять сколько заказов будет приходится на уникального пользователя). После чего сразу рассчитаем сколько пользователей совершило ровно 1 покупку."
   ]
  },
  {
   "cell_type": "code",
   "execution_count": 63,
   "metadata": {},
   "outputs": [],
   "source": [
    "# Cоединяем датафрейм покупок (purchases_df) с датафреймом уникальных данных о покупателях (customers_ids_df).\n",
    "customers_and_purchases_df = pd.merge(customers_ids_df, purchases_df, on=['customer_id'], how='inner')\n",
    "\n",
    "# Подсчитываем количество покупок для каждого уникального покупателя.\n",
    "customers_order_counts_df = customers_and_purchases_df[['customer_unique_id',\n",
    "                                                        'order_id']].groupby('customer_unique_id', as_index=False) \\\n",
    "                                                                    .agg({'order_id': 'count'}) \\\n",
    "                                                                    .rename(columns={'order_id': 'purchases'}) \\\n",
    "                                                                    .sort_values(by='purchases', ascending=False)\n",
    "\n",
    "# Оставляем только тех покупателей, у которых совершена ровно 1 покупка.\n",
    "single_purchase_customers_df = customers_order_counts_df.loc[customers_order_counts_df['purchases'] == 1]\n",
    "\n",
    "# Считаем общее коллчичество покупателей, у которых ровно 1 покупка\n",
    "number_single_purchase_customers = single_purchase_customers_df['customer_unique_id'].count()"
   ]
  },
  {
   "cell_type": "markdown",
   "metadata": {},
   "source": [
    "### Итог"
   ]
  },
  {
   "cell_type": "code",
   "execution_count": 64,
   "metadata": {},
   "outputs": [
    {
     "name": "stdout",
     "output_type": "stream",
     "text": [
      "Количество пользователей, которые совершили покупку только один раз: 90537.\n"
     ]
    }
   ],
   "source": [
    "print(f'Количество пользователей, которые совершили покупку только один раз: {number_single_purchase_customers}.')"
   ]
  },
  {
   "cell_type": "markdown",
   "metadata": {},
   "source": [
    "## Задание №2"
   ]
  },
  {
   "cell_type": "markdown",
   "metadata": {},
   "source": [
    "### Цель задания"
   ]
  },
  {
   "cell_type": "markdown",
   "metadata": {},
   "source": [
    "Сколько заказов в месяц в среднем не доставляется по разным причинам (вывести детализацию по причинам)? "
   ]
  },
  {
   "cell_type": "markdown",
   "metadata": {},
   "source": [
    "### Решение"
   ]
  },
  {
   "cell_type": "markdown",
   "metadata": {},
   "source": [
    "Так как дата доставки может достигать 200+ дней и мы не можем точно предсказать для незавершенных статусов будут ли они доставлены наверняка, то в данной ситуации брать все статусы заказов мы не можем.\n",
    "\n",
    "Поэтому логично рассмотреть только 3 завершающих статуса: 'canceled', 'unavailable', 'delivered'.\n",
    "\n",
    "Для начала нам необходимо подготовить датафрейм с заказами, оставив в нем данные, где 'order_delivered_customer_date' - не заполнено. Такие заказы можно считать недоставленными. Также переименуем статусы в соответсвии с причинностью.\n",
    "\n",
    "Проверять по оплате заказы не будем, так как не знаем есть ли у сервиса оплата после получения товара."
   ]
  },
  {
   "cell_type": "code",
   "execution_count": 65,
   "metadata": {},
   "outputs": [],
   "source": [
    "# Оставляем только те заказы, которые не имеют даты доставки. Такие заказы можно считать недоставленными.\n",
    "undelivered_orders_df = orders_df.loc[~orders_df['order_delivered_customer_date'].notna()]\n",
    "\n",
    "# Создаем список рассматриваемых статусов.\n",
    "undelivered_statuses = ['canceled', 'unavailable', 'delivered']\n",
    "\n",
    "# Оставляем только те заказы, где статус такой же как и в 'undelivered_statuses'.\n",
    "undelivered_orders_df = undelivered_orders_df.loc[undelivered_orders_df['order_status'].isin(undelivered_statuses)]\n",
    "\n",
    "# Переименовываем 'order_status' в 'reasons'.\n",
    "undelivered_orders_df.rename(columns={'order_status': 'reasons'}, inplace=True)\n",
    "\n",
    "# Переименовываем статусы заказов в соответсвии с тем, на ком лежит вина недоставленного заказа.\n",
    "undelivered_orders_df['reasons'] = undelivered_orders_df['reasons'].replace({'delivered': 'сбой системы',\n",
    "                                                                             'canceled': 'отмена заказа',\n",
    "                                                                             'unavailable': 'товар отсутствует'})"
   ]
  },
  {
   "cell_type": "code",
   "execution_count": 66,
   "metadata": {},
   "outputs": [
    {
     "data": {
      "text/html": [
       "<div>\n",
       "<style scoped>\n",
       "    .dataframe tbody tr th:only-of-type {\n",
       "        vertical-align: middle;\n",
       "    }\n",
       "\n",
       "    .dataframe tbody tr th {\n",
       "        vertical-align: top;\n",
       "    }\n",
       "\n",
       "    .dataframe thead th {\n",
       "        text-align: right;\n",
       "    }\n",
       "</style>\n",
       "<table border=\"1\" class=\"dataframe\">\n",
       "  <thead>\n",
       "    <tr style=\"text-align: right;\">\n",
       "      <th></th>\n",
       "      <th>reasons</th>\n",
       "      <th>count</th>\n",
       "    </tr>\n",
       "  </thead>\n",
       "  <tbody>\n",
       "    <tr>\n",
       "      <th>0</th>\n",
       "      <td>отмена заказа</td>\n",
       "      <td>619</td>\n",
       "    </tr>\n",
       "    <tr>\n",
       "      <th>1</th>\n",
       "      <td>сбой системы</td>\n",
       "      <td>8</td>\n",
       "    </tr>\n",
       "    <tr>\n",
       "      <th>2</th>\n",
       "      <td>товар отсутствует</td>\n",
       "      <td>609</td>\n",
       "    </tr>\n",
       "  </tbody>\n",
       "</table>\n",
       "</div>"
      ],
      "text/plain": [
       "             reasons  count\n",
       "0      отмена заказа    619\n",
       "1       сбой системы      8\n",
       "2  товар отсутствует    609"
      ]
     },
     "execution_count": 66,
     "metadata": {},
     "output_type": "execute_result"
    }
   ],
   "source": [
    "# Проверяем получившийся датафрейм.\n",
    "undelivered_orders_df[['reasons',\n",
    "                       'order_purchase_timestamp',]].groupby('reasons', as_index=False) \\\n",
    "                                                    .count() \\\n",
    "                                                    .rename(columns={'order_purchase_timestamp': 'count'})"
   ]
  },
  {
   "cell_type": "markdown",
   "metadata": {},
   "source": [
    "Дальше нам необходимо выделить из 'order_purchase_timestamp' период до месяца и посчитать сколько в среднем в месяц на каждую причину приходится недоставленных заказов."
   ]
  },
  {
   "cell_type": "code",
   "execution_count": 67,
   "metadata": {},
   "outputs": [],
   "source": [
    "# В подготовленном выше датафрейме из 'order_purchase_timestamp' выделяем период до месяца и записываем в новую серию.\n",
    "undelivered_orders_df['year_month'] = undelivered_orders_df['order_purchase_timestamp'].dt.to_period('M')\n",
    "\n",
    "# Рассчитываем в рамках периода количество недоставленных заказов по каждой причине.\n",
    "monthly_undelivered_df = undelivered_orders_df[['year_month',\n",
    "                                                'reasons',\n",
    "                                                'order_id']].groupby(['year_month', 'reasons'], as_index=False) \\\n",
    "                                                            .count() \\\n",
    "                                                            .rename(columns={'order_id': 'quantity'}) \\\n",
    "                                                            .sort_values('year_month')\n",
    "\n",
    "# Рассчитываем среднее значение недоставленных заказов в месяц (детализируем по причинам)\n",
    "monthly_undelivered_df = monthly_undelivered_df[['reasons',\n",
    "                                                 'year_month',\n",
    "                                                 'quantity']].groupby('reasons') \\\n",
    "                                                             .agg({'quantity': 'mean'}) \\\n",
    "                                                             .round(2)\n",
    "\n",
    "# Делаем для удобства сортировку и переименовываем серию.\n",
    "monthly_undelivered_df = monthly_undelivered_df.sort_values(by='quantity', ascending=False) \\\n",
    "                                               .reset_index() \\\n",
    "                                               .rename(columns={'quantity': 'average_month'})"
   ]
  },
  {
   "cell_type": "markdown",
   "metadata": {},
   "source": [
    "### Итог"
   ]
  },
  {
   "cell_type": "markdown",
   "metadata": {},
   "source": [
    "Выводим среднее количество недоставленных заказов в месяц (детализация до причин)."
   ]
  },
  {
   "cell_type": "code",
   "execution_count": 68,
   "metadata": {},
   "outputs": [
    {
     "name": "stdout",
     "output_type": "stream",
     "text": [
      "Среднее количество недоставленных заказов в месяц.\n",
      "Детализация до причин.\n",
      "              reasons average_month\n",
      " товар отсутствует            29.0 \n",
      " отмена заказа                25.79\n",
      " сбой системы                 2.0  \n"
     ]
    }
   ],
   "source": [
    "monthly_undelivered_df['reasons'] = monthly_undelivered_df['reasons'].apply(lambda x: f\"{x:<20}\")\n",
    "monthly_undelivered_df['average_month'] = monthly_undelivered_df['average_month'].apply(lambda x: f\"{x:<5}\")\n",
    "\n",
    "print(f'Среднее количество недоставленных заказов в месяц.\\nДетализация до причин.')\n",
    "print(monthly_undelivered_df.to_string(index=False))"
   ]
  },
  {
   "cell_type": "markdown",
   "metadata": {},
   "source": [
    "## Задание №3"
   ]
  },
  {
   "cell_type": "markdown",
   "metadata": {},
   "source": [
    "### Цель задания"
   ]
  },
  {
   "cell_type": "markdown",
   "metadata": {},
   "source": [
    "По каждому товару определить, в какой день недели товар чаще всего покупается."
   ]
  },
  {
   "cell_type": "markdown",
   "metadata": {},
   "source": [
    "### Решение"
   ]
  },
  {
   "cell_type": "markdown",
   "metadata": {},
   "source": [
    "Для решения данной задачи нам необходимо в объединенном датафрейме (покупки + товары) получить имя дня недели из 'order_purchase_timestamp', а дальше просто правильно рассчитать количество покупок приходящихся на каждый товар в рамках каждого дня недели."
   ]
  },
  {
   "cell_type": "code",
   "execution_count": 69,
   "metadata": {},
   "outputs": [],
   "source": [
    "# Создаем датафрейм с данными о покупках и товарах.\n",
    "purchases_and_products_df = pd.merge(purchases_df, products_df, on='order_id', how='inner')\n",
    "\n",
    "# Сохраняем копию датафрейма в другую переменную.\n",
    "most_popular_days_df = purchases_and_products_df.copy()\n",
    "\n",
    "# Получаем название дня неделя из 'order_purchase_timestamp' и сохраняем в новую серию.\n",
    "most_popular_days_df['day_of_week'] = most_popular_days_df['order_purchase_timestamp'].dt.day_name()\n",
    "\n",
    "# Считаем сколько было куплено каждого товара в каждый день недели.\n",
    "most_popular_days_df = most_popular_days_df[['product_id',\n",
    "                                                       'day_of_week',\n",
    "                                                       'customer_id']].groupby(['product_id',\n",
    "                                                                                'day_of_week'], as_index=False) \\\n",
    "                                                                      .count() \\\n",
    "                                                                      .rename(columns={'customer_id': 'purchase_count'})\n",
    "\n",
    "# Создаем серию, где по товару в каждой строке продублируем максимальное колличество покупок данного товара в неделю.\n",
    "most_popular_days_df['max'] = most_popular_days_df[['product_id',\n",
    "                                                    'purchase_count']].groupby('product_id', as_index=False) \\\n",
    "                                                                      .transform('max')\n",
    "\n",
    "# Делаем фильтрацию для сохранения нескольких максимальных значений.\n",
    "most_popular_days_df = most_popular_days_df.loc[most_popular_days_df['purchase_count'] == most_popular_days_df['max']]\n",
    "\n",
    "# Удаляем технический столбец 'max'.\n",
    "most_popular_days_df = most_popular_days_df.drop(columns='max')\n",
    "\n",
    "# Сортируем данные по колличеству покупок и обнуляем индекс.\n",
    "most_popular_days_df = most_popular_days_df.sort_values('purchase_count', ascending=False) \\\n",
    "                                           .reset_index(drop=True)"
   ]
  },
  {
   "cell_type": "markdown",
   "metadata": {},
   "source": [
    "### Итог"
   ]
  },
  {
   "cell_type": "code",
   "execution_count": 70,
   "metadata": {},
   "outputs": [
    {
     "name": "stdout",
     "output_type": "stream",
     "text": [
      "Таблица товаров и день когда его чаще покупают.\n",
      "Выведены первые 10 строк.\n",
      "                         product_id day_of_week  purchase_count\n",
      "0  422879e10f46682990de24d770e7f83d   Wednesday              93\n",
      "1  99a4788cb24856965c36a24e339b6058      Monday              91\n",
      "2  aca2eb7d00ea1a7b8ebd4e68314663af    Thursday              89\n",
      "3  53b36df67ebb7c41585e8d54d6772e08     Tuesday              76\n",
      "4  389d119b48cf3043d311335e499d9c6b    Thursday              67\n",
      "5  368c6c730842d78016ad823897a372db      Friday              67\n",
      "6  53759a2ecddad2bb87a079a1f1519f73   Wednesday              66\n",
      "7  d1c427060a0f73f6b889a5c7c61f2ac4      Monday              62\n",
      "8  3dd2a17168ec895c781a9191c1e95ad7   Wednesday              53\n",
      "9  a62e25e09e05e6faf31d90c6ec1aa3d1    Thursday              49\n"
     ]
    }
   ],
   "source": [
    "print(f'Таблица товаров и день когда его чаще покупают.\\nВыведены первые 10 строк.')\n",
    "print(most_popular_days_df.head(10))"
   ]
  },
  {
   "cell_type": "markdown",
   "metadata": {},
   "source": [
    "## Задание №4"
   ]
  },
  {
   "cell_type": "markdown",
   "metadata": {},
   "source": [
    "### Цель задания"
   ]
  },
  {
   "cell_type": "markdown",
   "metadata": {},
   "source": [
    "Сколько у каждого из пользователей в среднем покупок в неделю (по месяцам)? Не стоит забывать, что внутри месяца может быть не целое количество недель. Например, в ноябре 2021 года 4,28 недели. И внутри метрики это нужно учесть."
   ]
  },
  {
   "cell_type": "markdown",
   "metadata": {},
   "source": [
    "### Решение"
   ]
  },
  {
   "cell_type": "markdown",
   "metadata": {},
   "source": [
    "Для решения этой задачи необходимо сделать 2 вещи: 1) выделить период до месяца из 'order_purchase_timestamp', 2) расчитать для каждого месяца сколько в нем недель.\n",
    "\n",
    "Также нужно не включать неполные месяцы.\n",
    "\n",
    "Необходимый массив у нас был подготовлен заранее 'customers_and_purchases_df'."
   ]
  },
  {
   "cell_type": "code",
   "execution_count": 71,
   "metadata": {},
   "outputs": [
    {
     "name": "stdout",
     "output_type": "stream",
     "text": [
      "2016-09-15 12:16:38\n",
      "2018-08-29 15:00:37\n"
     ]
    }
   ],
   "source": [
    "# Находим неполные месяца.\n",
    "print(customers_and_purchases_df.order_purchase_timestamp.min())\n",
    "print(customers_and_purchases_df.order_purchase_timestamp.max())"
   ]
  },
  {
   "cell_type": "code",
   "execution_count": 72,
   "metadata": {},
   "outputs": [],
   "source": [
    "# Делаем список неполных месяцев. В ходе задания будем исключать их.\n",
    "excluted_dates = ['2016-09', '2018-09']"
   ]
  },
  {
   "cell_type": "code",
   "execution_count": 73,
   "metadata": {},
   "outputs": [],
   "source": [
    "# Cохраняем датафрейм с данными о покупках и данными о пользователи в отдельную переменную.\n",
    "average_weekly_purchases_df = customers_and_purchases_df.copy()\n",
    "\n",
    "# Выделяем период до месяца из 'order_purchase_timestamp' и сохраняем в отдельную переменную.\n",
    "average_weekly_purchases_df['year_month'] = average_weekly_purchases_df['order_purchase_timestamp'].dt.to_period('M')\n",
    "\n",
    "# Рассчитываем сколько каждый пользователь совершил покупок в рамках каждог периода 'year_month'.\n",
    "average_weekly_purchases_df = average_weekly_purchases_df[['customer_unique_id',\n",
    "                                                           'year_month',\n",
    "                                                           'order_id']].groupby(['customer_unique_id',\n",
    "                                                                                 'year_month'], as_index=False) \\\n",
    "                                                                       .count() \\\n",
    "                                                                       .rename(columns={'order_id': 'purchase_count'})\n",
    "\n",
    "# Создаем функцию, которая будет принимать период 'year_month', а возвращать количество дней в этом месяце.\n",
    "# Не забывем, что к разнице между начальной датой и конечной датой нужно прибавлять 1.\n",
    "def weeks_in_month(year_month):\n",
    "    start = year_month.start_time\n",
    "    end = year_month.end_time\n",
    "    return round(((end - start).days + 1) / 7, 2)\n",
    "\n",
    "# Применяем функцию 'weeks_in_month', к серии 'year_month' и получаем количество недель в каждом периоде 'year_month'.\n",
    "average_weekly_purchases_df['weeks'] = average_weekly_purchases_df['year_month'].apply(weeks_in_month)\n",
    "\n",
    "# Приводим 'year_month' к типу данных str. Иначе мы не сможем исключить неполные месяцы.\n",
    "average_weekly_purchases_df['year_month'] = average_weekly_purchases_df['year_month'].astype(str)\n",
    "\n",
    "# Исключаем строки с неполными месяцами.\n",
    "average_weekly_purchases_df = average_weekly_purchases_df.loc[~average_weekly_purchases_df.year_month.isin(excluted_dates)]\n",
    "\n",
    "# Теперь делем количество покупок в рамках периода 'year_month' на количество недель в этом периоде\n",
    "# и получаем среднее значение по периоду'year_month' для каждого пользователя. Также округлим до 2 знаком после запятой.\n",
    "average_weekly_purchases_df['avg_purchases_per_week'] = round(average_weekly_purchases_df['purchase_count']\n",
    "                                                              / average_weekly_purchases_df['weeks'], 2)\n",
    "\n",
    "# Оставляем только необходимые серии: id пользователя, период до месяца и среднее количество покупок.\n",
    "average_weekly_purchases_df = average_weekly_purchases_df[['customer_unique_id',\n",
    "                                                           'year_month',\n",
    "                                                           'avg_purchases_per_week']]"
   ]
  },
  {
   "cell_type": "markdown",
   "metadata": {},
   "source": [
    "### Итог"
   ]
  },
  {
   "cell_type": "code",
   "execution_count": 74,
   "metadata": {},
   "outputs": [
    {
     "name": "stdout",
     "output_type": "stream",
     "text": [
      "Среднее количество покупок пользователей в неделю (по месяцам).\n",
      "Выведены первые 10 строк.\n",
      "                 customer_unique_id year_month  avg_purchases_per_week\n",
      "0  0000366f3b9a7992bf8c76cfdf3221e2    2018-05                    0.23\n",
      "1  0000b849f77a49e4a4ce2b2a4ca5be3f    2018-05                    0.23\n",
      "2  0000f46a3911fa3c0805444483337064    2017-03                    0.23\n",
      "3  0000f6ccb0745a6a4b88665a16c9f078    2017-10                    0.23\n",
      "4  0004aac84e0df4da2b147fca70cf8255    2017-11                    0.23\n",
      "5  0004bd2a26a76fe21f786e4fbd80607f    2018-04                    0.23\n",
      "6  00050ab1314c0e55a6ca13cf7181fecf    2018-04                    0.23\n",
      "7  00053a61a98854899e70ed204dd4bafe    2018-02                    0.25\n",
      "8  0005e1862207bf6ccc02e4228effd9a0    2017-03                    0.23\n",
      "9  0005ef4cd20d2893f0d9fbd94d3c0d97    2018-03                    0.23\n"
     ]
    }
   ],
   "source": [
    "print(f'Среднее количество покупок пользователей в неделю (по месяцам).\\nВыведены первые 10 строк.')\n",
    "print(average_weekly_purchases_df.head(10))"
   ]
  },
  {
   "cell_type": "markdown",
   "metadata": {},
   "source": [
    "## Задание №5"
   ]
  },
  {
   "cell_type": "markdown",
   "metadata": {},
   "source": [
    "### Цель задания"
   ]
  },
  {
   "cell_type": "markdown",
   "metadata": {},
   "source": [
    "Выполните когортный анализ пользователей.\n",
    "В период с января по декабрь выявите когорту с самым высоким retention на 3-й месяц."
   ]
  },
  {
   "cell_type": "markdown",
   "metadata": {},
   "source": [
    "### Решение"
   ]
  },
  {
   "cell_type": "markdown",
   "metadata": {},
   "source": [
    "Для решения данной задачи нам необходимо понять какой период нужно брать для построения когортного анализа. Условия задачи говорят, что когорту с самым высоким retention найти в период с января по декабрь. Для этого нам нужно понять с какого момента начинается полный год.\n",
    "\n",
    "Также нам нужно установить минимальную и максимальную дату для ограничения периода анализа."
   ]
  },
  {
   "cell_type": "code",
   "execution_count": 75,
   "metadata": {},
   "outputs": [
    {
     "name": "stdout",
     "output_type": "stream",
     "text": [
      "Первая дата покупки: 2016-09-15 12:16:38\n",
      "Последняя дата покупки: 2018-09-03 17:40:06\n"
     ]
    }
   ],
   "source": [
    "# Смотрим первую и последнюю дату покупки.\n",
    "print(f'Первая дата покупки: {orders_df.order_approved_at.min()}\\n\\\n",
    "Последняя дата покупки: {orders_df.order_approved_at.max()}')"
   ]
  },
  {
   "cell_type": "markdown",
   "metadata": {},
   "source": [
    "Теперь нам стало понятно, что полноценно оценить мы можем 2017 год только - так как он является полным.\n",
    "\n",
    "Таким образом, минимальной датой анализа будет '2017-01-01', а максимальной '2018-04-01' (чтобы оценить коготу '2017-12-31' до 3 месяца)"
   ]
  },
  {
   "cell_type": "code",
   "execution_count": 76,
   "metadata": {},
   "outputs": [],
   "source": [
    "# Сохраняем в переменных обозначенные минимальную и максимальную даты анализа.\n",
    "min_analysis_date = '2017-01-01'\n",
    "max_analysis_date = '2018-04-01'"
   ]
  },
  {
   "cell_type": "markdown",
   "metadata": {},
   "source": [
    "Теперь нужно подготовить все элементы для когортного анализа.\n",
    "\n",
    "Признак формирования когорты — дата первой покупки;\n",
    "\n",
    "Размер когорты — месяц;\n",
    "\n",
    "Отчетный период — определены минимальной и максимальной датой анализа ('2017-01-01' по '2018-03-01');\n",
    "\n",
    "Анализируемый ключевой показатель: Retention Rate."
   ]
  },
  {
   "cell_type": "code",
   "execution_count": 77,
   "metadata": {},
   "outputs": [],
   "source": [
    "# Сохраняем в новую переменную подготовленный датафрейм покупок и данными о пользователях.\n",
    "cohort_analysis_df = customers_and_purchases_df.copy()\n",
    "\n",
    "# Оставляем только те данные, где дата покупки больше либо равно минимальной дате анализа, но меньши либо равно максимальной дате анализа.\n",
    "cohort_analysis_df = cohort_analysis_df.query('order_approved_at >= @min_analysis_date and order_approved_at <= @max_analysis_date')\n",
    "\n",
    "# Извлекаем период до месяца из 'order_purchase_timestamp' и сохраняем в отдельную серию.\n",
    "cohort_analysis_df['year_month'] = cohort_analysis_df['order_purchase_timestamp'].dt.to_period('M')"
   ]
  },
  {
   "cell_type": "code",
   "execution_count": 78,
   "metadata": {},
   "outputs": [],
   "source": [
    "# Находим для каждого уникального покупателя дату первой покупки (год-месяц).\n",
    "first_orders_df = cohort_analysis_df.groupby('customer_unique_id', as_index=False) \\\n",
    "                                    .agg({'year_month': 'min'}) \\\n",
    "                                    .sort_values('customer_unique_id') \\\n",
    "                                    .rename(columns={'year_month': 'first_order_year_month'})"
   ]
  },
  {
   "cell_type": "code",
   "execution_count": 79,
   "metadata": {},
   "outputs": [
    {
     "data": {
      "text/html": [
       "<div>\n",
       "<style scoped>\n",
       "    .dataframe tbody tr th:only-of-type {\n",
       "        vertical-align: middle;\n",
       "    }\n",
       "\n",
       "    .dataframe tbody tr th {\n",
       "        vertical-align: top;\n",
       "    }\n",
       "\n",
       "    .dataframe thead th {\n",
       "        text-align: right;\n",
       "    }\n",
       "</style>\n",
       "<table border=\"1\" class=\"dataframe\">\n",
       "  <thead>\n",
       "    <tr style=\"text-align: right;\">\n",
       "      <th></th>\n",
       "      <th>first_order_year_month</th>\n",
       "      <th>year_month</th>\n",
       "      <th>user_count</th>\n",
       "    </tr>\n",
       "  </thead>\n",
       "  <tbody>\n",
       "    <tr>\n",
       "      <th>0</th>\n",
       "      <td>2017-01</td>\n",
       "      <td>2017-01</td>\n",
       "      <td>716</td>\n",
       "    </tr>\n",
       "    <tr>\n",
       "      <th>1</th>\n",
       "      <td>2017-01</td>\n",
       "      <td>2017-02</td>\n",
       "      <td>2</td>\n",
       "    </tr>\n",
       "    <tr>\n",
       "      <th>2</th>\n",
       "      <td>2017-01</td>\n",
       "      <td>2017-03</td>\n",
       "      <td>2</td>\n",
       "    </tr>\n",
       "    <tr>\n",
       "      <th>3</th>\n",
       "      <td>2017-01</td>\n",
       "      <td>2017-04</td>\n",
       "      <td>1</td>\n",
       "    </tr>\n",
       "    <tr>\n",
       "      <th>4</th>\n",
       "      <td>2017-01</td>\n",
       "      <td>2017-05</td>\n",
       "      <td>3</td>\n",
       "    </tr>\n",
       "  </tbody>\n",
       "</table>\n",
       "</div>"
      ],
      "text/plain": [
       "  first_order_year_month year_month  user_count\n",
       "0                2017-01    2017-01         716\n",
       "1                2017-01    2017-02           2\n",
       "2                2017-01    2017-03           2\n",
       "3                2017-01    2017-04           1\n",
       "4                2017-01    2017-05           3"
      ]
     },
     "execution_count": 79,
     "metadata": {},
     "output_type": "execute_result"
    }
   ],
   "source": [
    "# Теперь строим когорты.\n",
    "# Создаем под это новый датафрейм. В нем будет обьединенные данные из 'cohort_analysis_df' c 'first_orders_df'.\n",
    "cohorts_df = cohort_analysis_df[['customer_unique_id',\n",
    "                                 'order_id',\n",
    "                                 'year_month']].merge(first_orders_df, on='customer_unique_id')\n",
    "\n",
    "# Для каждой когорты по месяцам считаем колличество пользователей.\n",
    "cohorts_df = cohorts_df.groupby(['first_order_year_month',\n",
    "                                 'year_month'], as_index=False) \\\n",
    "                       .agg({'customer_unique_id': 'nunique'}) \\\n",
    "                       .rename(columns={'customer_unique_id': 'user_count'})\n",
    "\n",
    "# Проверяем, что получилось.    \n",
    "cohorts_df.head()"
   ]
  },
  {
   "cell_type": "code",
   "execution_count": 80,
   "metadata": {},
   "outputs": [],
   "source": [
    "# Создаем функцию, которая будет нумеровать месяцы по диапозону окна в когорте.\n",
    "# Не дописываем в функцию +1 иначе нумерация будет с 1 и неправильно будут указаны месяцы для понимания анализа.\n",
    "def cohort_period_number(df):\n",
    "    df['cohort_period_number'] = np.arange(len(df))\n",
    "    return df\n",
    "\n",
    "# Применяем созданную функцию для нумерации месяца в 'first_order_year_month'.\n",
    "cohorts_df = cohorts_df.groupby('first_order_year_month').apply(cohort_period_number)\n",
    "\n",
    "# Сбрасываем индексы с удалением - иначе выдаст ошибки.\n",
    "cohorts_df.reset_index(drop=True, inplace=True)"
   ]
  },
  {
   "cell_type": "code",
   "execution_count": 81,
   "metadata": {},
   "outputs": [
    {
     "data": {
      "text/html": [
       "<div>\n",
       "<style scoped>\n",
       "    .dataframe tbody tr th:only-of-type {\n",
       "        vertical-align: middle;\n",
       "    }\n",
       "\n",
       "    .dataframe tbody tr th {\n",
       "        vertical-align: top;\n",
       "    }\n",
       "\n",
       "    .dataframe thead th {\n",
       "        text-align: right;\n",
       "    }\n",
       "</style>\n",
       "<table border=\"1\" class=\"dataframe\">\n",
       "  <thead>\n",
       "    <tr style=\"text-align: right;\">\n",
       "      <th></th>\n",
       "      <th>cohort_size</th>\n",
       "    </tr>\n",
       "    <tr>\n",
       "      <th>first_order_year_month</th>\n",
       "      <th></th>\n",
       "    </tr>\n",
       "  </thead>\n",
       "  <tbody>\n",
       "    <tr>\n",
       "      <th>2017-01</th>\n",
       "      <td>716</td>\n",
       "    </tr>\n",
       "    <tr>\n",
       "      <th>2017-02</th>\n",
       "      <td>1616</td>\n",
       "    </tr>\n",
       "    <tr>\n",
       "      <th>2017-03</th>\n",
       "      <td>2503</td>\n",
       "    </tr>\n",
       "    <tr>\n",
       "      <th>2017-04</th>\n",
       "      <td>2257</td>\n",
       "    </tr>\n",
       "    <tr>\n",
       "      <th>2017-05</th>\n",
       "      <td>3450</td>\n",
       "    </tr>\n",
       "  </tbody>\n",
       "</table>\n",
       "</div>"
      ],
      "text/plain": [
       "                        cohort_size\n",
       "first_order_year_month             \n",
       "2017-01                         716\n",
       "2017-02                        1616\n",
       "2017-03                        2503\n",
       "2017-04                        2257\n",
       "2017-05                        3450"
      ]
     },
     "execution_count": 81,
     "metadata": {},
     "output_type": "execute_result"
    }
   ],
   "source": [
    "# Сохраняем отдельно размеры когорт. Они понадобятся для расчета retention.\n",
    "cohort_sizes_df = cohorts_df[['user_count', 'first_order_year_month']].groupby('first_order_year_month') \\\n",
    "                                                                      .first() \\\n",
    "                                                                      .rename(columns={'user_count': 'cohort_size'})\n",
    "\n",
    "# Проверяем, что получилось.\n",
    "cohort_sizes_df.head()\n",
    "     "
   ]
  },
  {
   "cell_type": "code",
   "execution_count": 82,
   "metadata": {},
   "outputs": [
    {
     "data": {
      "text/html": [
       "<div>\n",
       "<style scoped>\n",
       "    .dataframe tbody tr th:only-of-type {\n",
       "        vertical-align: middle;\n",
       "    }\n",
       "\n",
       "    .dataframe tbody tr th {\n",
       "        vertical-align: top;\n",
       "    }\n",
       "\n",
       "    .dataframe thead th {\n",
       "        text-align: right;\n",
       "    }\n",
       "</style>\n",
       "<table border=\"1\" class=\"dataframe\">\n",
       "  <thead>\n",
       "    <tr style=\"text-align: right;\">\n",
       "      <th>cohort_period_number</th>\n",
       "      <th>0</th>\n",
       "      <th>1</th>\n",
       "      <th>2</th>\n",
       "      <th>3</th>\n",
       "      <th>4</th>\n",
       "      <th>5</th>\n",
       "      <th>6</th>\n",
       "      <th>7</th>\n",
       "      <th>8</th>\n",
       "      <th>9</th>\n",
       "      <th>10</th>\n",
       "      <th>11</th>\n",
       "      <th>12</th>\n",
       "      <th>13</th>\n",
       "    </tr>\n",
       "    <tr>\n",
       "      <th>first_order_year_month</th>\n",
       "      <th></th>\n",
       "      <th></th>\n",
       "      <th></th>\n",
       "      <th></th>\n",
       "      <th></th>\n",
       "      <th></th>\n",
       "      <th></th>\n",
       "      <th></th>\n",
       "      <th></th>\n",
       "      <th></th>\n",
       "      <th></th>\n",
       "      <th></th>\n",
       "      <th></th>\n",
       "      <th></th>\n",
       "    </tr>\n",
       "  </thead>\n",
       "  <tbody>\n",
       "    <tr>\n",
       "      <th>2017-01</th>\n",
       "      <td>1.0</td>\n",
       "      <td>0.002793</td>\n",
       "      <td>0.002793</td>\n",
       "      <td>0.001397</td>\n",
       "      <td>0.004190</td>\n",
       "      <td>0.001397</td>\n",
       "      <td>0.004190</td>\n",
       "      <td>0.001397</td>\n",
       "      <td>0.001397</td>\n",
       "      <td>0.004190</td>\n",
       "      <td>0.001397</td>\n",
       "      <td>0.006983</td>\n",
       "      <td>0.004190</td>\n",
       "      <td>0.001397</td>\n",
       "    </tr>\n",
       "    <tr>\n",
       "      <th>2017-02</th>\n",
       "      <td>1.0</td>\n",
       "      <td>0.001856</td>\n",
       "      <td>0.003094</td>\n",
       "      <td>0.001238</td>\n",
       "      <td>0.004332</td>\n",
       "      <td>0.001238</td>\n",
       "      <td>0.002475</td>\n",
       "      <td>0.001856</td>\n",
       "      <td>0.000619</td>\n",
       "      <td>0.001856</td>\n",
       "      <td>0.001238</td>\n",
       "      <td>0.003094</td>\n",
       "      <td>0.001238</td>\n",
       "      <td>0.001856</td>\n",
       "    </tr>\n",
       "    <tr>\n",
       "      <th>2017-03</th>\n",
       "      <td>1.0</td>\n",
       "      <td>0.004395</td>\n",
       "      <td>0.003596</td>\n",
       "      <td>0.003995</td>\n",
       "      <td>0.003596</td>\n",
       "      <td>0.001598</td>\n",
       "      <td>0.001598</td>\n",
       "      <td>0.003196</td>\n",
       "      <td>0.003196</td>\n",
       "      <td>0.000799</td>\n",
       "      <td>0.003596</td>\n",
       "      <td>0.001199</td>\n",
       "      <td>0.001998</td>\n",
       "      <td>NaN</td>\n",
       "    </tr>\n",
       "    <tr>\n",
       "      <th>2017-04</th>\n",
       "      <td>1.0</td>\n",
       "      <td>0.006203</td>\n",
       "      <td>0.002215</td>\n",
       "      <td>0.001772</td>\n",
       "      <td>0.002658</td>\n",
       "      <td>0.002658</td>\n",
       "      <td>0.003545</td>\n",
       "      <td>0.003101</td>\n",
       "      <td>0.003101</td>\n",
       "      <td>0.001772</td>\n",
       "      <td>0.002658</td>\n",
       "      <td>0.000886</td>\n",
       "      <td>NaN</td>\n",
       "      <td>NaN</td>\n",
       "    </tr>\n",
       "    <tr>\n",
       "      <th>2017-05</th>\n",
       "      <td>1.0</td>\n",
       "      <td>0.004638</td>\n",
       "      <td>0.004638</td>\n",
       "      <td>0.002899</td>\n",
       "      <td>0.002899</td>\n",
       "      <td>0.003188</td>\n",
       "      <td>0.004058</td>\n",
       "      <td>0.001449</td>\n",
       "      <td>0.002609</td>\n",
       "      <td>0.002609</td>\n",
       "      <td>0.002609</td>\n",
       "      <td>NaN</td>\n",
       "      <td>NaN</td>\n",
       "      <td>NaN</td>\n",
       "    </tr>\n",
       "  </tbody>\n",
       "</table>\n",
       "</div>"
      ],
      "text/plain": [
       "cohort_period_number     0         1         2         3         4         5   \\\n",
       "first_order_year_month                                                          \n",
       "2017-01                 1.0  0.002793  0.002793  0.001397  0.004190  0.001397   \n",
       "2017-02                 1.0  0.001856  0.003094  0.001238  0.004332  0.001238   \n",
       "2017-03                 1.0  0.004395  0.003596  0.003995  0.003596  0.001598   \n",
       "2017-04                 1.0  0.006203  0.002215  0.001772  0.002658  0.002658   \n",
       "2017-05                 1.0  0.004638  0.004638  0.002899  0.002899  0.003188   \n",
       "\n",
       "cohort_period_number          6         7         8         9         10  \\\n",
       "first_order_year_month                                                     \n",
       "2017-01                 0.004190  0.001397  0.001397  0.004190  0.001397   \n",
       "2017-02                 0.002475  0.001856  0.000619  0.001856  0.001238   \n",
       "2017-03                 0.001598  0.003196  0.003196  0.000799  0.003596   \n",
       "2017-04                 0.003545  0.003101  0.003101  0.001772  0.002658   \n",
       "2017-05                 0.004058  0.001449  0.002609  0.002609  0.002609   \n",
       "\n",
       "cohort_period_number          11        12        13  \n",
       "first_order_year_month                                \n",
       "2017-01                 0.006983  0.004190  0.001397  \n",
       "2017-02                 0.003094  0.001238  0.001856  \n",
       "2017-03                 0.001199  0.001998       NaN  \n",
       "2017-04                 0.000886       NaN       NaN  \n",
       "2017-05                      NaN       NaN       NaN  "
      ]
     },
     "execution_count": 82,
     "metadata": {},
     "output_type": "execute_result"
    }
   ],
   "source": [
    "# Теперь расчитываем retention.\n",
    "# Соединяем датафрейм 'cohorts_df' с 'cohort_sizes_df'.\n",
    "retention_df = pd.merge(cohorts_df, cohort_sizes_df, on=['first_order_year_month'], how='left')\n",
    "\n",
    "# В получившемся датафрейме расчитываем retention.\n",
    "# Делим количество пользователей в рамках каждой когорты по месяцам на размер когорты\n",
    "# (по сути это первоначальное количетсво пользователей в когорте).\n",
    "retention_df['retention'] = retention_df['user_count'] / retention_df['cohort_size']\n",
    "\n",
    "# Делаем таблицу.\n",
    "retention_df = retention_df.pivot_table(columns='cohort_period_number',\n",
    "                                        index ='first_order_year_month',\n",
    "                                        values='retention')\n",
    "\n",
    "# Смотрим, что получилось.\n",
    "retention_df.head()"
   ]
  },
  {
   "cell_type": "markdown",
   "metadata": {},
   "source": [
    "### Итог"
   ]
  },
  {
   "cell_type": "markdown",
   "metadata": {},
   "source": [
    "Визуализируем наш когортный анализ с помощью sns.heatmap."
   ]
  },
  {
   "cell_type": "code",
   "execution_count": 83,
   "metadata": {},
   "outputs": [
    {
     "data": {
      "text/plain": [
       "Text(0.5, 48.0, 'Номер месяца')"
      ]
     },
     "execution_count": 83,
     "metadata": {},
     "output_type": "execute_result"
    },
    {
     "data": {
      "image/png": "[encoded data removed]",
      "text/plain": [
       "<Figure size 1584x576 with 2 Axes>"
      ]
     },
     "metadata": {
      "needs_background": "light"
     },
     "output_type": "display_data"
    }
   ],
   "source": [
    "plt.rcParams['font.size'] = '12'\n",
    "plt.figure(figsize=(22,8))\n",
    "sns.heatmap(retention_df, mask=retention_df.isnull(), annot=True, fmt='.2%', vmin=0.0, vmax=0.01, cmap='flare')\n",
    "plt.grid(False)\n",
    "plt.title('Retention Rate')\n",
    "plt.ylabel('Дата первой покупки (когорта)')\n",
    "plt.xlabel('Номер месяца')"
   ]
  },
  {
   "cell_type": "markdown",
   "metadata": {},
   "source": [
    "Смотрим 3 номер месяца, и определяем когорту с самым высоким retention."
   ]
  },
  {
   "cell_type": "code",
   "execution_count": 84,
   "metadata": {},
   "outputs": [
    {
     "name": "stdout",
     "output_type": "stream",
     "text": [
      "Когорта с самым высоким retention на 3-й месяц с января по декабрь: 2017-06.\n"
     ]
    }
   ],
   "source": [
    "print(f'Когорта с самым высоким retention на 3-й месяц с января по декабрь: 2017-06.')"
   ]
  },
  {
   "cell_type": "markdown",
   "metadata": {},
   "source": [
    "По когортному анализу наблюдаем, что удержание клиентов в целом слабая сторона исследуемого сервиса/компании. Однако полные выводы мы сделаем после RFM анализа"
   ]
  },
  {
   "cell_type": "markdown",
   "metadata": {},
   "source": [
    "## Задание №6"
   ]
  },
  {
   "cell_type": "markdown",
   "metadata": {},
   "source": [
    "### Цель задания"
   ]
  },
  {
   "cell_type": "markdown",
   "metadata": {},
   "source": [
    "Часто для качественного анализа аудитории использую подходы, основанные на сегментации. Используя python, построй RFM-сегментацию пользователей, чтобы качественно оценить свою аудиторию. В кластеризации можешь выбрать следующие метрики: R - время от последней покупки пользователя до текущей даты, F - суммарное количество покупок у пользователя за всё время, M - сумма покупок за всё время. Подробно опиши, как ты создавал кластеры. Для каждого RFM-сегмента построй границы метрик recency, frequency и monetary для интерпретации этих кластеров. Пример такого описания: RFM-сегмент 132 (recency=1, frequency=3, monetary=2) имеет границы метрик recency от 130 до 500 дней, frequency от 2 до 5 заказов в неделю, monetary от 1780 до 3560 рублей в неделю."
   ]
  },
  {
   "cell_type": "markdown",
   "metadata": {},
   "source": [
    "### Решение"
   ]
  },
  {
   "cell_type": "markdown",
   "metadata": {},
   "source": [
    "Для начала нам надо объединить датафрейм с покупками с данными пользователей и с данными о товарах."
   ]
  },
  {
   "cell_type": "code",
   "execution_count": 85,
   "metadata": {},
   "outputs": [
    {
     "name": "stdout",
     "output_type": "stream",
     "text": [
      "(96456, 8)\n",
      "(112650, 7)\n",
      "True\n"
     ]
    }
   ],
   "source": [
    "# Объединяем готовый датафрейм покупок и данных о пользователях с данными о товарах.\n",
    "rfm_df = pd.merge(customers_and_purchases_df, products_df, on=['order_id'], how='inner')\n",
    "\n",
    "# Делаем проверку. \n",
    "print(purchases_df.shape)\n",
    "print(products_df.shape)\n",
    "print(purchases_df.shape[0] <= rfm_df.shape[0] <= products_df.shape[0])"
   ]
  },
  {
   "cell_type": "markdown",
   "metadata": {},
   "source": [
    "Теперь нужно посчитать RFM сегменты:\n",
    "\n",
    "R — время от последней покупки пользователя до текущей даты;\n",
    "\n",
    "F — суммарное количество покупок у пользователя за всё время;\n",
    "\n",
    "M — сумма покупок за всё время."
   ]
  },
  {
   "cell_type": "markdown",
   "metadata": {},
   "source": [
    "Оставим только необходимые данные из общего датафрейма."
   ]
  },
  {
   "cell_type": "code",
   "execution_count": 86,
   "metadata": {},
   "outputs": [
    {
     "data": {
      "text/html": [
       "<div>\n",
       "<style scoped>\n",
       "    .dataframe tbody tr th:only-of-type {\n",
       "        vertical-align: middle;\n",
       "    }\n",
       "\n",
       "    .dataframe tbody tr th {\n",
       "        vertical-align: top;\n",
       "    }\n",
       "\n",
       "    .dataframe thead th {\n",
       "        text-align: right;\n",
       "    }\n",
       "</style>\n",
       "<table border=\"1\" class=\"dataframe\">\n",
       "  <thead>\n",
       "    <tr style=\"text-align: right;\">\n",
       "      <th></th>\n",
       "      <th>order_id</th>\n",
       "      <th>order_approved_at</th>\n",
       "      <th>customer_unique_id</th>\n",
       "      <th>purchase_sum</th>\n",
       "    </tr>\n",
       "  </thead>\n",
       "  <tbody>\n",
       "    <tr>\n",
       "      <th>0</th>\n",
       "      <td>bfbd0f9bdef84302105ad712db648a6c</td>\n",
       "      <td>2016-09-15 12:16:38</td>\n",
       "      <td>830d5b7aaa3b6f1e9ad63703bec97d23</td>\n",
       "      <td>134.97</td>\n",
       "    </tr>\n",
       "    <tr>\n",
       "      <th>1</th>\n",
       "      <td>1ff217aa612f6cd7c4255c9bfe931c8b</td>\n",
       "      <td>2016-10-04 09:43:32</td>\n",
       "      <td>14359ea0c7a105749c0a56478825b015</td>\n",
       "      <td>32.49</td>\n",
       "    </tr>\n",
       "    <tr>\n",
       "      <th>2</th>\n",
       "      <td>cd3b8574c82b42fc8129f6d502690c3e</td>\n",
       "      <td>2016-10-04 10:19:23</td>\n",
       "      <td>87776adb449c551e74c13fc34f036105</td>\n",
       "      <td>29.99</td>\n",
       "    </tr>\n",
       "    <tr>\n",
       "      <th>3</th>\n",
       "      <td>ed8c7b1b3eb256c70ce0c74231e1da88</td>\n",
       "      <td>2016-10-04 10:25:46</td>\n",
       "      <td>88bc832f104b6dd684a17dbb1b76e778</td>\n",
       "      <td>89.90</td>\n",
       "    </tr>\n",
       "    <tr>\n",
       "      <th>4</th>\n",
       "      <td>d207cc272675637bfed0062edffd0818</td>\n",
       "      <td>2016-10-04 10:28:07</td>\n",
       "      <td>8d3a54507421dbd2ce0a1d58046826e0</td>\n",
       "      <td>119.90</td>\n",
       "    </tr>\n",
       "  </tbody>\n",
       "</table>\n",
       "</div>"
      ],
      "text/plain": [
       "                           order_id   order_approved_at  \\\n",
       "0  bfbd0f9bdef84302105ad712db648a6c 2016-09-15 12:16:38   \n",
       "1  1ff217aa612f6cd7c4255c9bfe931c8b 2016-10-04 09:43:32   \n",
       "2  cd3b8574c82b42fc8129f6d502690c3e 2016-10-04 10:19:23   \n",
       "3  ed8c7b1b3eb256c70ce0c74231e1da88 2016-10-04 10:25:46   \n",
       "4  d207cc272675637bfed0062edffd0818 2016-10-04 10:28:07   \n",
       "\n",
       "                 customer_unique_id  purchase_sum  \n",
       "0  830d5b7aaa3b6f1e9ad63703bec97d23        134.97  \n",
       "1  14359ea0c7a105749c0a56478825b015         32.49  \n",
       "2  87776adb449c551e74c13fc34f036105         29.99  \n",
       "3  88bc832f104b6dd684a17dbb1b76e778         89.90  \n",
       "4  8d3a54507421dbd2ce0a1d58046826e0        119.90  "
      ]
     },
     "execution_count": 86,
     "metadata": {},
     "output_type": "execute_result"
    }
   ],
   "source": [
    "# Нужно привести датафрейм в необходдимый вид.\n",
    "rfm_df = rfm_df.groupby(['order_id',\n",
    "                         'order_approved_at',\n",
    "                         'customer_unique_id'], as_index=False) \\\n",
    "               .agg({'price': 'sum'}) \\\n",
    "               .sort_values('order_approved_at') \\\n",
    "               .rename(columns={'price': 'purchase_sum'}) \\\n",
    "               .reset_index(drop=True)\n",
    "\n",
    "# Смотрим, что получилось     \n",
    "rfm_df.head()"
   ]
  },
  {
   "cell_type": "markdown",
   "metadata": {},
   "source": [
    "Данные старые. Нужно найти today_date."
   ]
  },
  {
   "cell_type": "code",
   "execution_count": 87,
   "metadata": {},
   "outputs": [
    {
     "name": "stdout",
     "output_type": "stream",
     "text": [
      "Последняя дата покупки:  2018-08-29 15:10:26\n"
     ]
    }
   ],
   "source": [
    "# Находим и выводим последнюю дату оплаты покупки.\n",
    "print(f'Последняя дата покупки:  {max(rfm_df.order_approved_at)}')"
   ]
  },
  {
   "cell_type": "code",
   "execution_count": 88,
   "metadata": {},
   "outputs": [],
   "source": [
    "# Сохраняем получившуюся дату в переменную today_date.\n",
    "today_date = '2018-08-29 15:10:26'\n",
    "\n",
    "# Сразу приведем к типу даты.\n",
    "today_date_datetime = datetime.strptime(today_date, '%Y-%m-%d %H:%M:%S')"
   ]
  },
  {
   "cell_type": "markdown",
   "metadata": {},
   "source": [
    "Считаем показатели R, F и M."
   ]
  },
  {
   "cell_type": "code",
   "execution_count": 89,
   "metadata": {},
   "outputs": [
    {
     "data": {
      "text/html": [
       "<div>\n",
       "<style scoped>\n",
       "    .dataframe tbody tr th:only-of-type {\n",
       "        vertical-align: middle;\n",
       "    }\n",
       "\n",
       "    .dataframe tbody tr th {\n",
       "        vertical-align: top;\n",
       "    }\n",
       "\n",
       "    .dataframe thead th {\n",
       "        text-align: right;\n",
       "    }\n",
       "</style>\n",
       "<table border=\"1\" class=\"dataframe\">\n",
       "  <thead>\n",
       "    <tr style=\"text-align: right;\">\n",
       "      <th></th>\n",
       "      <th>customer_unique_id</th>\n",
       "      <th>recency</th>\n",
       "      <th>frequency</th>\n",
       "      <th>monetary</th>\n",
       "    </tr>\n",
       "  </thead>\n",
       "  <tbody>\n",
       "    <tr>\n",
       "      <th>0</th>\n",
       "      <td>0000366f3b9a7992bf8c76cfdf3221e2</td>\n",
       "      <td>111 days 03:59:08</td>\n",
       "      <td>1</td>\n",
       "      <td>129.90</td>\n",
       "    </tr>\n",
       "    <tr>\n",
       "      <th>1</th>\n",
       "      <td>0000b849f77a49e4a4ce2b2a4ca5be3f</td>\n",
       "      <td>113 days 20:44:42</td>\n",
       "      <td>1</td>\n",
       "      <td>18.90</td>\n",
       "    </tr>\n",
       "    <tr>\n",
       "      <th>2</th>\n",
       "      <td>0000f46a3911fa3c0805444483337064</td>\n",
       "      <td>536 days 18:05:23</td>\n",
       "      <td>1</td>\n",
       "      <td>69.00</td>\n",
       "    </tr>\n",
       "    <tr>\n",
       "      <th>3</th>\n",
       "      <td>0000f6ccb0745a6a4b88665a16c9f078</td>\n",
       "      <td>320 days 18:21:09</td>\n",
       "      <td>1</td>\n",
       "      <td>25.99</td>\n",
       "    </tr>\n",
       "    <tr>\n",
       "      <th>4</th>\n",
       "      <td>0004aac84e0df4da2b147fca70cf8255</td>\n",
       "      <td>287 days 19:03:34</td>\n",
       "      <td>1</td>\n",
       "      <td>180.00</td>\n",
       "    </tr>\n",
       "  </tbody>\n",
       "</table>\n",
       "</div>"
      ],
      "text/plain": [
       "                 customer_unique_id           recency  frequency  monetary\n",
       "0  0000366f3b9a7992bf8c76cfdf3221e2 111 days 03:59:08          1    129.90\n",
       "1  0000b849f77a49e4a4ce2b2a4ca5be3f 113 days 20:44:42          1     18.90\n",
       "2  0000f46a3911fa3c0805444483337064 536 days 18:05:23          1     69.00\n",
       "3  0000f6ccb0745a6a4b88665a16c9f078 320 days 18:21:09          1     25.99\n",
       "4  0004aac84e0df4da2b147fca70cf8255 287 days 19:03:34          1    180.00"
      ]
     },
     "execution_count": 89,
     "metadata": {},
     "output_type": "execute_result"
    }
   ],
   "source": [
    "# Считаем суммарное количество покупок у пользователей за все время и сумму покупок за все время.\n",
    "rfm_df = rfm_df.groupby('customer_unique_id', as_index=False) \\\n",
    "               .agg({'order_approved_at': 'max',\n",
    "                     'order_id': 'count',\n",
    "                     'purchase_sum': 'sum'}) \\\n",
    "               .rename(columns={'order_id': 'frequency',\n",
    "                                'purchase_sum': 'monetary'})\n",
    "\n",
    "# Для удобства округлим 'monetary' до 2 знаков после запятой.\n",
    "rfm_df['monetary'] = round(rfm_df['monetary'], 2)\n",
    "\n",
    "# Считаем время от последней покупки пользователя до установленной текущей даты.\n",
    "rfm_df['order_approved_at'] = today_date_datetime - rfm_df.order_approved_at\n",
    "\n",
    "# Переименуем сразу 'order_approved_at' в 'recency'.\n",
    "rfm_df = rfm_df.rename(columns={'order_approved_at': 'recency'})\n",
    "\n",
    "# Смотрим, что получилось.\n",
    "rfm_df.head()"
   ]
  },
  {
   "cell_type": "markdown",
   "metadata": {},
   "source": [
    "Необходимо исследовать каждый показатель (recency, frequency, monetary), чтобы понять как распределить пользователей по кластерам."
   ]
  },
  {
   "cell_type": "code",
   "execution_count": 90,
   "metadata": {},
   "outputs": [],
   "source": [
    "# Для удобства ограничимся колличеством дней в 'recency'.\n",
    "\n",
    "# Приводим 'recency' к типу str.\n",
    "rfm_df['recency'] = rfm_df['recency'].astype(str)\n",
    "\n",
    "# Через регулярную функцию и extract забираем только указанное колличесвто дней.\n",
    "rfm_df['recency'] = rfm_df['recency'].str.extract(r'(\\d+)\\s+days')\n",
    "\n",
    "# Приводим 'recency' к типу int.\n",
    "rfm_df['recency'] = rfm_df['recency'].astype(int)"
   ]
  },
  {
   "cell_type": "code",
   "execution_count": 91,
   "metadata": {},
   "outputs": [
    {
     "data": {
      "text/html": [
       "<div>\n",
       "<style scoped>\n",
       "    .dataframe tbody tr th:only-of-type {\n",
       "        vertical-align: middle;\n",
       "    }\n",
       "\n",
       "    .dataframe tbody tr th {\n",
       "        vertical-align: top;\n",
       "    }\n",
       "\n",
       "    .dataframe thead th {\n",
       "        text-align: right;\n",
       "    }\n",
       "</style>\n",
       "<table border=\"1\" class=\"dataframe\">\n",
       "  <thead>\n",
       "    <tr style=\"text-align: right;\">\n",
       "      <th></th>\n",
       "      <th>recency</th>\n",
       "      <th>frequency</th>\n",
       "      <th>monetary</th>\n",
       "    </tr>\n",
       "  </thead>\n",
       "  <tbody>\n",
       "    <tr>\n",
       "      <th>count</th>\n",
       "      <td>93337.000000</td>\n",
       "      <td>93337.000000</td>\n",
       "      <td>93337.000000</td>\n",
       "    </tr>\n",
       "    <tr>\n",
       "      <th>mean</th>\n",
       "      <td>236.487138</td>\n",
       "      <td>1.033417</td>\n",
       "      <td>141.622063</td>\n",
       "    </tr>\n",
       "    <tr>\n",
       "      <th>std</th>\n",
       "      <td>152.569502</td>\n",
       "      <td>0.209096</td>\n",
       "      <td>215.713022</td>\n",
       "    </tr>\n",
       "    <tr>\n",
       "      <th>min</th>\n",
       "      <td>0.000000</td>\n",
       "      <td>1.000000</td>\n",
       "      <td>0.850000</td>\n",
       "    </tr>\n",
       "    <tr>\n",
       "      <th>25%</th>\n",
       "      <td>113.000000</td>\n",
       "      <td>1.000000</td>\n",
       "      <td>47.650000</td>\n",
       "    </tr>\n",
       "    <tr>\n",
       "      <th>50%</th>\n",
       "      <td>218.000000</td>\n",
       "      <td>1.000000</td>\n",
       "      <td>89.700000</td>\n",
       "    </tr>\n",
       "    <tr>\n",
       "      <th>75%</th>\n",
       "      <td>345.000000</td>\n",
       "      <td>1.000000</td>\n",
       "      <td>154.700000</td>\n",
       "    </tr>\n",
       "    <tr>\n",
       "      <th>max</th>\n",
       "      <td>713.000000</td>\n",
       "      <td>15.000000</td>\n",
       "      <td>13440.000000</td>\n",
       "    </tr>\n",
       "  </tbody>\n",
       "</table>\n",
       "</div>"
      ],
      "text/plain": [
       "            recency     frequency      monetary\n",
       "count  93337.000000  93337.000000  93337.000000\n",
       "mean     236.487138      1.033417    141.622063\n",
       "std      152.569502      0.209096    215.713022\n",
       "min        0.000000      1.000000      0.850000\n",
       "25%      113.000000      1.000000     47.650000\n",
       "50%      218.000000      1.000000     89.700000\n",
       "75%      345.000000      1.000000    154.700000\n",
       "max      713.000000     15.000000  13440.000000"
      ]
     },
     "execution_count": 91,
     "metadata": {},
     "output_type": "execute_result"
    }
   ],
   "source": [
    "# Выведем статистическую информацию о показателях.\n",
    "rfm_df.describe()"
   ]
  },
  {
   "cell_type": "markdown",
   "metadata": {},
   "source": [
    "По frequency явно подавляющее большинство сделало только 1 покупку и распределение будет скошено. Его нужно будет детально посмотреть."
   ]
  },
  {
   "cell_type": "markdown",
   "metadata": {},
   "source": [
    "Сначала разделим на части recency. Данный показатель хорошо делится по квантилям. Но на вский случай проверим распределение. Если оно будет скученно в одном месте, то, как вариант, можно несколько раз по 75 перцентилю ограничивать ранги. Однако надо посмотреть распределение.\n",
    "\n",
    "4 части для recency:\n",
    "\n",
    "1) 4 ранг - чаще всего покупают;\n",
    "2) 3 ранг - покупают чаще половины, но не дотягивают до самых частых;\n",
    "3) 2 ранг - покупают реже половины, но не реже всего;\n",
    "4) 1 ранг - покупают реже всего."
   ]
  },
  {
   "cell_type": "code",
   "execution_count": 92,
   "metadata": {},
   "outputs": [
    {
     "data": {
      "image/png": "[encoded data removed]",
      "text/plain": [
       "<Figure size 576x432 with 1 Axes>"
      ]
     },
     "metadata": {
      "needs_background": "light"
     },
     "output_type": "display_data"
    }
   ],
   "source": [
    "# Строим гистограмму, чтобы оценить распределение recency.\n",
    "plt.figure(figsize=(8, 6))\n",
    "sns.histplot(data=rfm_df, x='recency', color='purple')\n",
    "plt.title('Распределение recency')\n",
    "plt.xlabel('recency')\n",
    "plt.ylabel('Частота')\n",
    "plt.show()"
   ]
  },
  {
   "cell_type": "markdown",
   "metadata": {},
   "source": [
    "На графике видно, что распределение примерно равномерное. Поэтому можно ограничивать ранги по 1, 2, 3 квантилям."
   ]
  },
  {
   "cell_type": "code",
   "execution_count": 93,
   "metadata": {},
   "outputs": [
    {
     "data": {
      "text/html": [
       "<div>\n",
       "<style scoped>\n",
       "    .dataframe tbody tr th:only-of-type {\n",
       "        vertical-align: middle;\n",
       "    }\n",
       "\n",
       "    .dataframe tbody tr th {\n",
       "        vertical-align: top;\n",
       "    }\n",
       "\n",
       "    .dataframe thead th {\n",
       "        text-align: right;\n",
       "    }\n",
       "</style>\n",
       "<table border=\"1\" class=\"dataframe\">\n",
       "  <thead>\n",
       "    <tr style=\"text-align: right;\">\n",
       "      <th></th>\n",
       "      <th>customer_unique_id</th>\n",
       "      <th>recency</th>\n",
       "      <th>frequency</th>\n",
       "      <th>monetary</th>\n",
       "      <th>r_rank</th>\n",
       "    </tr>\n",
       "  </thead>\n",
       "  <tbody>\n",
       "    <tr>\n",
       "      <th>0</th>\n",
       "      <td>0000366f3b9a7992bf8c76cfdf3221e2</td>\n",
       "      <td>111</td>\n",
       "      <td>1</td>\n",
       "      <td>129.90</td>\n",
       "      <td>4</td>\n",
       "    </tr>\n",
       "    <tr>\n",
       "      <th>1</th>\n",
       "      <td>0000b849f77a49e4a4ce2b2a4ca5be3f</td>\n",
       "      <td>113</td>\n",
       "      <td>1</td>\n",
       "      <td>18.90</td>\n",
       "      <td>3</td>\n",
       "    </tr>\n",
       "    <tr>\n",
       "      <th>2</th>\n",
       "      <td>0000f46a3911fa3c0805444483337064</td>\n",
       "      <td>536</td>\n",
       "      <td>1</td>\n",
       "      <td>69.00</td>\n",
       "      <td>1</td>\n",
       "    </tr>\n",
       "    <tr>\n",
       "      <th>3</th>\n",
       "      <td>0000f6ccb0745a6a4b88665a16c9f078</td>\n",
       "      <td>320</td>\n",
       "      <td>1</td>\n",
       "      <td>25.99</td>\n",
       "      <td>2</td>\n",
       "    </tr>\n",
       "    <tr>\n",
       "      <th>4</th>\n",
       "      <td>0004aac84e0df4da2b147fca70cf8255</td>\n",
       "      <td>287</td>\n",
       "      <td>1</td>\n",
       "      <td>180.00</td>\n",
       "      <td>2</td>\n",
       "    </tr>\n",
       "  </tbody>\n",
       "</table>\n",
       "</div>"
      ],
      "text/plain": [
       "                 customer_unique_id  recency  frequency  monetary  r_rank\n",
       "0  0000366f3b9a7992bf8c76cfdf3221e2      111          1    129.90       4\n",
       "1  0000b849f77a49e4a4ce2b2a4ca5be3f      113          1     18.90       3\n",
       "2  0000f46a3911fa3c0805444483337064      536          1     69.00       1\n",
       "3  0000f6ccb0745a6a4b88665a16c9f078      320          1     25.99       2\n",
       "4  0004aac84e0df4da2b147fca70cf8255      287          1    180.00       2"
      ]
     },
     "execution_count": 93,
     "metadata": {},
     "output_type": "execute_result"
    }
   ],
   "source": [
    "# Создаем переменные 1, 2, 3 квантиля.\n",
    "recency_q25 = rfm_df.recency.quantile(0.25)\n",
    "recency_q50 = rfm_df.recency.quantile(0.5)\n",
    "recency_q75 = rfm_df.recency.quantile(0.75)\n",
    "\n",
    "# Создаем функцию для присвоения рангов по показателю 'recency'. 4 - чаще всего покупают, 1 - реже всего покупают.\n",
    "def recency_rank (column):\n",
    "  if column < recency_q25:\n",
    "    return 4\n",
    "  elif column >= recency_q25 and column < recency_q50:\n",
    "    return 3\n",
    "  elif column >= recency_q50 and column < recency_q75:\n",
    "    return 2\n",
    "  elif column >= recency_q75:\n",
    "    return 1\n",
    "\n",
    "# Применяем нашу функцию для присвоения рангов.\n",
    "rfm_df['r_rank'] = rfm_df.recency.apply(lambda x: recency_rank(x))\n",
    "\n",
    "# Смотрим, что получилось.\n",
    "rfm_df.head()"
   ]
  },
  {
   "cell_type": "markdown",
   "metadata": {},
   "source": [
    "Переходим к делению frequency. Тут нужно посмотреть распределение."
   ]
  },
  {
   "cell_type": "code",
   "execution_count": 94,
   "metadata": {},
   "outputs": [
    {
     "data": {
      "text/plain": [
       "1     90537\n",
       "2      2572\n",
       "3       181\n",
       "4        28\n",
       "5         9\n",
       "6         5\n",
       "7         3\n",
       "15        1\n",
       "9         1\n",
       "Name: frequency, dtype: int64"
      ]
     },
     "execution_count": 94,
     "metadata": {},
     "output_type": "execute_result"
    }
   ],
   "source": [
    "# Считаем значения по серии 'frequency'.\n",
    "rfm_df.frequency.value_counts()"
   ]
  },
  {
   "cell_type": "markdown",
   "metadata": {},
   "source": [
    "Даже без построения диаграммы нам наглядно видно, что есть скученность значений вокруг 1-2 покупок.\n",
    "\n",
    "Исходя из увиденного стоит разделить на следующие 4 части:\n",
    "\n",
    "1) 4 ранг - 4 и более покупок покупка;\n",
    "2) 3 ранг - 3 покупки;\n",
    "3) 2 ранг - 2 покупки;\n",
    "4) 1 ранг - 1 покупка."
   ]
  },
  {
   "cell_type": "code",
   "execution_count": 95,
   "metadata": {},
   "outputs": [
    {
     "data": {
      "text/html": [
       "<div>\n",
       "<style scoped>\n",
       "    .dataframe tbody tr th:only-of-type {\n",
       "        vertical-align: middle;\n",
       "    }\n",
       "\n",
       "    .dataframe tbody tr th {\n",
       "        vertical-align: top;\n",
       "    }\n",
       "\n",
       "    .dataframe thead th {\n",
       "        text-align: right;\n",
       "    }\n",
       "</style>\n",
       "<table border=\"1\" class=\"dataframe\">\n",
       "  <thead>\n",
       "    <tr style=\"text-align: right;\">\n",
       "      <th></th>\n",
       "      <th>customer_unique_id</th>\n",
       "      <th>recency</th>\n",
       "      <th>frequency</th>\n",
       "      <th>monetary</th>\n",
       "      <th>r_rank</th>\n",
       "      <th>f_rank</th>\n",
       "    </tr>\n",
       "  </thead>\n",
       "  <tbody>\n",
       "    <tr>\n",
       "      <th>0</th>\n",
       "      <td>0000366f3b9a7992bf8c76cfdf3221e2</td>\n",
       "      <td>111</td>\n",
       "      <td>1</td>\n",
       "      <td>129.90</td>\n",
       "      <td>4</td>\n",
       "      <td>1</td>\n",
       "    </tr>\n",
       "    <tr>\n",
       "      <th>1</th>\n",
       "      <td>0000b849f77a49e4a4ce2b2a4ca5be3f</td>\n",
       "      <td>113</td>\n",
       "      <td>1</td>\n",
       "      <td>18.90</td>\n",
       "      <td>3</td>\n",
       "      <td>1</td>\n",
       "    </tr>\n",
       "    <tr>\n",
       "      <th>2</th>\n",
       "      <td>0000f46a3911fa3c0805444483337064</td>\n",
       "      <td>536</td>\n",
       "      <td>1</td>\n",
       "      <td>69.00</td>\n",
       "      <td>1</td>\n",
       "      <td>1</td>\n",
       "    </tr>\n",
       "    <tr>\n",
       "      <th>3</th>\n",
       "      <td>0000f6ccb0745a6a4b88665a16c9f078</td>\n",
       "      <td>320</td>\n",
       "      <td>1</td>\n",
       "      <td>25.99</td>\n",
       "      <td>2</td>\n",
       "      <td>1</td>\n",
       "    </tr>\n",
       "    <tr>\n",
       "      <th>4</th>\n",
       "      <td>0004aac84e0df4da2b147fca70cf8255</td>\n",
       "      <td>287</td>\n",
       "      <td>1</td>\n",
       "      <td>180.00</td>\n",
       "      <td>2</td>\n",
       "      <td>1</td>\n",
       "    </tr>\n",
       "  </tbody>\n",
       "</table>\n",
       "</div>"
      ],
      "text/plain": [
       "                 customer_unique_id  recency  frequency  monetary  r_rank  \\\n",
       "0  0000366f3b9a7992bf8c76cfdf3221e2      111          1    129.90       4   \n",
       "1  0000b849f77a49e4a4ce2b2a4ca5be3f      113          1     18.90       3   \n",
       "2  0000f46a3911fa3c0805444483337064      536          1     69.00       1   \n",
       "3  0000f6ccb0745a6a4b88665a16c9f078      320          1     25.99       2   \n",
       "4  0004aac84e0df4da2b147fca70cf8255      287          1    180.00       2   \n",
       "\n",
       "   f_rank  \n",
       "0       1  \n",
       "1       1  \n",
       "2       1  \n",
       "3       1  \n",
       "4       1  "
      ]
     },
     "execution_count": 95,
     "metadata": {},
     "output_type": "execute_result"
    }
   ],
   "source": [
    "# Создаем функцию для присвоения рангов по показателю 'frequency'.\n",
    "def frequency_rank(column):\n",
    "  if column == 1:\n",
    "    return 1\n",
    "  elif column == 2:\n",
    "    return 2\n",
    "  elif column == 3:\n",
    "    return 3\n",
    "  elif column >= 4:\n",
    "    return 4\n",
    "\n",
    "# Применяем нашу функцию для присвоения рангов.\n",
    "rfm_df['f_rank'] = rfm_df.frequency.apply(lambda x: frequency_rank(x))\n",
    "\n",
    "# Смотрим, что получилось.\n",
    "rfm_df.head()"
   ]
  },
  {
   "cell_type": "markdown",
   "metadata": {},
   "source": [
    "Осталось сделать деление для  monetary.\n",
    "\n",
    "Тут надо тоже глянуть распределение monetary."
   ]
  },
  {
   "cell_type": "code",
   "execution_count": 96,
   "metadata": {},
   "outputs": [
    {
     "data": {
      "image/png": "[encoded data removed]",
      "text/plain": [
       "<Figure size 576x432 with 1 Axes>"
      ]
     },
     "metadata": {
      "needs_background": "light"
     },
     "output_type": "display_data"
    }
   ],
   "source": [
    "# Строим диаграмму для распределения monetary.\n",
    "plt.figure(figsize=(8, 6))\n",
    "sns.histplot(data=rfm_df, x='monetary', color='purple')\n",
    "plt.title('Распределение monetary')\n",
    "plt.xlabel('monetary')\n",
    "plt.ylabel('Частота')\n",
    "plt.show()"
   ]
  },
  {
   "cell_type": "markdown",
   "metadata": {},
   "source": [
    "Тут мы видим неравномерное распределение. К тому же очень длинный правый хвост. Тут нельзя делить периоды аналогичным способом, как recency. Иначе ранги не будут отражать действительно значимые различия между собой.\n",
    "\n",
    "Для этого можем необходимое колличество раз ограничить каждый оставшийся промежуток данных по 75 перцентилю.Тогда мы сможем сделать более значимые разлияи между рангами и в малой степени искажать картину."
   ]
  },
  {
   "cell_type": "code",
   "execution_count": 97,
   "metadata": {},
   "outputs": [
    {
     "name": "stdout",
     "output_type": "stream",
     "text": [
      "154.7\n",
      "369.9\n",
      "828.495\n"
     ]
    }
   ],
   "source": [
    "# Находим 75 перцентиль - он будет ограничить первую и вторую группы.\n",
    "monetary_q75_1 = rfm_df.monetary.quantile(0.75)\n",
    "# Фильтруем значения monetary (оставляем все что больше 75 перцентиля)\n",
    "# и находим на отфильтрованных данных новый 75 перцентиль - он будет ограничивать вторую и третью группы\n",
    "monetary_q75_2 = rfm_df.loc[rfm_df.monetary > monetary_q75_1].monetary.quantile(0.75)\n",
    "# Снова фильтруем значения monetary (оставляем все что больше второго 75 перцентиля)\n",
    "# и снова находим на отфильтрованных данных новый 75 перцентиль - он будет ограничивать третью и четвертую группы\n",
    "monetary_q75_3 = rfm_df.loc[rfm_df.monetary > monetary_q75_2].monetary.quantile(0.75)\n",
    "\n",
    "# Создаем функцию для присвоения рангов по показателю 'monetary'.\n",
    "def monetary_rank(column):\n",
    "  if column < monetary_q75_1:\n",
    "    return 1\n",
    "  elif column >= monetary_q75_1 and column < monetary_q75_2:\n",
    "    return 2\n",
    "  elif column >= monetary_q75_2 and column < monetary_q75_3:\n",
    "    return 3\n",
    "  elif column >= monetary_q75_3:\n",
    "    return 4\n",
    "\n",
    "# Выведем границы monetary.\n",
    "print(f'{monetary_q75_1}\\n{monetary_q75_2}\\n{monetary_q75_3}')"
   ]
  },
  {
   "cell_type": "code",
   "execution_count": 98,
   "metadata": {},
   "outputs": [
    {
     "data": {
      "text/html": [
       "<div>\n",
       "<style scoped>\n",
       "    .dataframe tbody tr th:only-of-type {\n",
       "        vertical-align: middle;\n",
       "    }\n",
       "\n",
       "    .dataframe tbody tr th {\n",
       "        vertical-align: top;\n",
       "    }\n",
       "\n",
       "    .dataframe thead th {\n",
       "        text-align: right;\n",
       "    }\n",
       "</style>\n",
       "<table border=\"1\" class=\"dataframe\">\n",
       "  <thead>\n",
       "    <tr style=\"text-align: right;\">\n",
       "      <th></th>\n",
       "      <th>customer_unique_id</th>\n",
       "      <th>recency</th>\n",
       "      <th>frequency</th>\n",
       "      <th>monetary</th>\n",
       "      <th>r_rank</th>\n",
       "      <th>f_rank</th>\n",
       "      <th>m_rank</th>\n",
       "    </tr>\n",
       "  </thead>\n",
       "  <tbody>\n",
       "    <tr>\n",
       "      <th>0</th>\n",
       "      <td>0000366f3b9a7992bf8c76cfdf3221e2</td>\n",
       "      <td>111</td>\n",
       "      <td>1</td>\n",
       "      <td>129.90</td>\n",
       "      <td>4</td>\n",
       "      <td>1</td>\n",
       "      <td>1</td>\n",
       "    </tr>\n",
       "    <tr>\n",
       "      <th>1</th>\n",
       "      <td>0000b849f77a49e4a4ce2b2a4ca5be3f</td>\n",
       "      <td>113</td>\n",
       "      <td>1</td>\n",
       "      <td>18.90</td>\n",
       "      <td>3</td>\n",
       "      <td>1</td>\n",
       "      <td>1</td>\n",
       "    </tr>\n",
       "    <tr>\n",
       "      <th>2</th>\n",
       "      <td>0000f46a3911fa3c0805444483337064</td>\n",
       "      <td>536</td>\n",
       "      <td>1</td>\n",
       "      <td>69.00</td>\n",
       "      <td>1</td>\n",
       "      <td>1</td>\n",
       "      <td>1</td>\n",
       "    </tr>\n",
       "    <tr>\n",
       "      <th>3</th>\n",
       "      <td>0000f6ccb0745a6a4b88665a16c9f078</td>\n",
       "      <td>320</td>\n",
       "      <td>1</td>\n",
       "      <td>25.99</td>\n",
       "      <td>2</td>\n",
       "      <td>1</td>\n",
       "      <td>1</td>\n",
       "    </tr>\n",
       "    <tr>\n",
       "      <th>4</th>\n",
       "      <td>0004aac84e0df4da2b147fca70cf8255</td>\n",
       "      <td>287</td>\n",
       "      <td>1</td>\n",
       "      <td>180.00</td>\n",
       "      <td>2</td>\n",
       "      <td>1</td>\n",
       "      <td>2</td>\n",
       "    </tr>\n",
       "    <tr>\n",
       "      <th>5</th>\n",
       "      <td>0004bd2a26a76fe21f786e4fbd80607f</td>\n",
       "      <td>145</td>\n",
       "      <td>1</td>\n",
       "      <td>154.00</td>\n",
       "      <td>3</td>\n",
       "      <td>1</td>\n",
       "      <td>1</td>\n",
       "    </tr>\n",
       "    <tr>\n",
       "      <th>6</th>\n",
       "      <td>00050ab1314c0e55a6ca13cf7181fecf</td>\n",
       "      <td>126</td>\n",
       "      <td>1</td>\n",
       "      <td>27.99</td>\n",
       "      <td>3</td>\n",
       "      <td>1</td>\n",
       "      <td>1</td>\n",
       "    </tr>\n",
       "    <tr>\n",
       "      <th>7</th>\n",
       "      <td>00053a61a98854899e70ed204dd4bafe</td>\n",
       "      <td>182</td>\n",
       "      <td>1</td>\n",
       "      <td>382.00</td>\n",
       "      <td>3</td>\n",
       "      <td>1</td>\n",
       "      <td>3</td>\n",
       "    </tr>\n",
       "    <tr>\n",
       "      <th>8</th>\n",
       "      <td>0005e1862207bf6ccc02e4228effd9a0</td>\n",
       "      <td>542</td>\n",
       "      <td>1</td>\n",
       "      <td>135.00</td>\n",
       "      <td>1</td>\n",
       "      <td>1</td>\n",
       "      <td>1</td>\n",
       "    </tr>\n",
       "    <tr>\n",
       "      <th>9</th>\n",
       "      <td>0005ef4cd20d2893f0d9fbd94d3c0d97</td>\n",
       "      <td>169</td>\n",
       "      <td>1</td>\n",
       "      <td>104.90</td>\n",
       "      <td>3</td>\n",
       "      <td>1</td>\n",
       "      <td>1</td>\n",
       "    </tr>\n",
       "  </tbody>\n",
       "</table>\n",
       "</div>"
      ],
      "text/plain": [
       "                 customer_unique_id  recency  frequency  monetary  r_rank  \\\n",
       "0  0000366f3b9a7992bf8c76cfdf3221e2      111          1    129.90       4   \n",
       "1  0000b849f77a49e4a4ce2b2a4ca5be3f      113          1     18.90       3   \n",
       "2  0000f46a3911fa3c0805444483337064      536          1     69.00       1   \n",
       "3  0000f6ccb0745a6a4b88665a16c9f078      320          1     25.99       2   \n",
       "4  0004aac84e0df4da2b147fca70cf8255      287          1    180.00       2   \n",
       "5  0004bd2a26a76fe21f786e4fbd80607f      145          1    154.00       3   \n",
       "6  00050ab1314c0e55a6ca13cf7181fecf      126          1     27.99       3   \n",
       "7  00053a61a98854899e70ed204dd4bafe      182          1    382.00       3   \n",
       "8  0005e1862207bf6ccc02e4228effd9a0      542          1    135.00       1   \n",
       "9  0005ef4cd20d2893f0d9fbd94d3c0d97      169          1    104.90       3   \n",
       "\n",
       "   f_rank  m_rank  \n",
       "0       1       1  \n",
       "1       1       1  \n",
       "2       1       1  \n",
       "3       1       1  \n",
       "4       1       2  \n",
       "5       1       1  \n",
       "6       1       1  \n",
       "7       1       3  \n",
       "8       1       1  \n",
       "9       1       1  "
      ]
     },
     "execution_count": 98,
     "metadata": {},
     "output_type": "execute_result"
    }
   ],
   "source": [
    "# Применяем нашу функцию для присвоения рангов.\n",
    "rfm_df['m_rank'] = rfm_df.monetary.apply(lambda x: monetary_rank(x))\n",
    "\n",
    "# Смотрим, что получилось и проверяем. 4 - лучшие ранги, 1 - худшие.\n",
    "rfm_df.head(10)"
   ]
  },
  {
   "cell_type": "code",
   "execution_count": 99,
   "metadata": {},
   "outputs": [
    {
     "data": {
      "text/html": [
       "<div>\n",
       "<style scoped>\n",
       "    .dataframe tbody tr th:only-of-type {\n",
       "        vertical-align: middle;\n",
       "    }\n",
       "\n",
       "    .dataframe tbody tr th {\n",
       "        vertical-align: top;\n",
       "    }\n",
       "\n",
       "    .dataframe thead th {\n",
       "        text-align: right;\n",
       "    }\n",
       "</style>\n",
       "<table border=\"1\" class=\"dataframe\">\n",
       "  <thead>\n",
       "    <tr style=\"text-align: right;\">\n",
       "      <th></th>\n",
       "      <th>customer_unique_id</th>\n",
       "      <th>recency</th>\n",
       "      <th>frequency</th>\n",
       "      <th>monetary</th>\n",
       "      <th>r_rank</th>\n",
       "      <th>f_rank</th>\n",
       "      <th>m_rank</th>\n",
       "      <th>rfm_score</th>\n",
       "    </tr>\n",
       "  </thead>\n",
       "  <tbody>\n",
       "    <tr>\n",
       "      <th>0</th>\n",
       "      <td>0000366f3b9a7992bf8c76cfdf3221e2</td>\n",
       "      <td>111</td>\n",
       "      <td>1</td>\n",
       "      <td>129.90</td>\n",
       "      <td>4</td>\n",
       "      <td>1</td>\n",
       "      <td>1</td>\n",
       "      <td>411</td>\n",
       "    </tr>\n",
       "    <tr>\n",
       "      <th>1</th>\n",
       "      <td>0000b849f77a49e4a4ce2b2a4ca5be3f</td>\n",
       "      <td>113</td>\n",
       "      <td>1</td>\n",
       "      <td>18.90</td>\n",
       "      <td>3</td>\n",
       "      <td>1</td>\n",
       "      <td>1</td>\n",
       "      <td>311</td>\n",
       "    </tr>\n",
       "    <tr>\n",
       "      <th>2</th>\n",
       "      <td>0000f46a3911fa3c0805444483337064</td>\n",
       "      <td>536</td>\n",
       "      <td>1</td>\n",
       "      <td>69.00</td>\n",
       "      <td>1</td>\n",
       "      <td>1</td>\n",
       "      <td>1</td>\n",
       "      <td>111</td>\n",
       "    </tr>\n",
       "    <tr>\n",
       "      <th>3</th>\n",
       "      <td>0000f6ccb0745a6a4b88665a16c9f078</td>\n",
       "      <td>320</td>\n",
       "      <td>1</td>\n",
       "      <td>25.99</td>\n",
       "      <td>2</td>\n",
       "      <td>1</td>\n",
       "      <td>1</td>\n",
       "      <td>211</td>\n",
       "    </tr>\n",
       "    <tr>\n",
       "      <th>4</th>\n",
       "      <td>0004aac84e0df4da2b147fca70cf8255</td>\n",
       "      <td>287</td>\n",
       "      <td>1</td>\n",
       "      <td>180.00</td>\n",
       "      <td>2</td>\n",
       "      <td>1</td>\n",
       "      <td>2</td>\n",
       "      <td>212</td>\n",
       "    </tr>\n",
       "  </tbody>\n",
       "</table>\n",
       "</div>"
      ],
      "text/plain": [
       "                 customer_unique_id  recency  frequency  monetary  r_rank  \\\n",
       "0  0000366f3b9a7992bf8c76cfdf3221e2      111          1    129.90       4   \n",
       "1  0000b849f77a49e4a4ce2b2a4ca5be3f      113          1     18.90       3   \n",
       "2  0000f46a3911fa3c0805444483337064      536          1     69.00       1   \n",
       "3  0000f6ccb0745a6a4b88665a16c9f078      320          1     25.99       2   \n",
       "4  0004aac84e0df4da2b147fca70cf8255      287          1    180.00       2   \n",
       "\n",
       "   f_rank  m_rank rfm_score  \n",
       "0       1       1       411  \n",
       "1       1       1       311  \n",
       "2       1       1       111  \n",
       "3       1       1       211  \n",
       "4       1       2       212  "
      ]
     },
     "execution_count": 99,
     "metadata": {},
     "output_type": "execute_result"
    }
   ],
   "source": [
    "# Создадим серию 'rfm_score' и отобразим все 3 показателя.\n",
    "rfm_df['rfm_score'] = rfm_df['r_rank'].astype(str) + rfm_df['f_rank'].astype(str) + rfm_df['m_rank'].astype(str)\n",
    "\n",
    "# Смотрим, что получилось.\n",
    "rfm_df.head()"
   ]
  },
  {
   "cell_type": "markdown",
   "metadata": {},
   "source": [
    "Построение анализа готово. Осталось перейти к рассмотрению сегментов и выводам."
   ]
  },
  {
   "cell_type": "markdown",
   "metadata": {},
   "source": [
    "### Итог"
   ]
  },
  {
   "cell_type": "markdown",
   "metadata": {},
   "source": [
    "Зафиксируем\n",
    "\n",
    "444 - лучшие клиенты (покупали недавно, 4 и более покупок, суммы покупок от 828.5)\n",
    "\n",
    "111 - потерянные клиенты (покупали очень давно, 1 покупка, сумма покупок до 154,7)\n",
    "\n",
    "Остальные сегменты пока не будем расписывать, так как сначала нужно посмотреть какие из сегментов преобладают.\n",
    "\n",
    "Соберем последнюю таблицу, в которой будет номер сегмента, количество пользователей в сегменте и доля сегмента."
   ]
  },
  {
   "cell_type": "code",
   "execution_count": 100,
   "metadata": {},
   "outputs": [
    {
     "name": "stdout",
     "output_type": "stream",
     "text": [
      "Колличество пользователей в сегментах и доля сегмента\n",
      "rfm_score  segment_count  segment_percent\n",
      "      311          17312           18.548\n",
      "      211          17251           18.482\n",
      "      111          17246           18.477\n",
      "      411          17071           18.290\n",
      "      112           4125            4.419\n",
      "      212           4111            4.404\n",
      "      312           4070            4.361\n",
      "      412           3980            4.264\n",
      "      113           1014            1.086\n",
      "      213           1009            1.081\n",
      "      313           1007            1.079\n",
      "      413            985            1.055\n"
     ]
    }
   ],
   "source": [
    "# Собираем итоговый датафрейм rfm анализа.\n",
    "rfm_itog_df = rfm_df[['rfm_score',\n",
    "                      'customer_unique_id']].groupby('rfm_score', as_index=False) \\\n",
    "                                            .count() \\\n",
    "                                            .rename(columns={'customer_unique_id': 'segment_count'}) \\\n",
    "                                            .sort_values('segment_count', ascending=False)\n",
    "\n",
    "# Делаем округление для колличества пользователей в сегменте до 2 знаков после запятой. \n",
    "rfm_itog_df['segment_percent'] = round((rfm_itog_df['segment_count'] * 100) / rfm_itog_df['segment_count'].sum(), 3)\n",
    "\n",
    "# Обнуляем индекс.\n",
    "rfm_itog_df.reset_index(drop=True, inplace=True)\n",
    "\n",
    "# Выводим итоговую таблицу. Специально отсекаем  все показатели меньше 1 %.\n",
    "print(f'Колличество пользователей в сегментах и доля сегмента')                                       \n",
    "print(rfm_itog_df.head(12).to_string(index=False))"
   ]
  },
  {
   "cell_type": "markdown",
   "metadata": {},
   "source": [
    "Для удобства делаем круговую диаграмму."
   ]
  },
  {
   "cell_type": "code",
   "execution_count": 101,
   "metadata": {},
   "outputs": [
    {
     "data": {
      "image/png": "[encoded data removed]",
      "text/plain": [
       "<Figure size 648x504 with 1 Axes>"
      ]
     },
     "metadata": {},
     "output_type": "display_data"
    }
   ],
   "source": [
    "# Оставляем толко сегменты больше 4 % (остальные как мы заметили по таблице 1% или меньше)\n",
    "rfm_pie_df = rfm_itog_df.loc[rfm_itog_df['segment_percent'] > 4]\n",
    "\n",
    "# Создаем круговую диаграмму. (Увы по цветам будет выбиваться...зато наглядно)\n",
    "plt.figure(figsize=(9, 7))\n",
    "plt.pie(rfm_pie_df['segment_percent'],\n",
    "        labels=rfm_pie_df['rfm_score'],\n",
    "        autopct='%1.1f%%',\n",
    "        startangle=100,\n",
    "        textprops={'fontsize': 12})\n",
    "plt.title('Доли RFM сегментов', pad=20)\n",
    "plt.axis('equal')\n",
    "plt.show()"
   ]
  },
  {
   "cell_type": "markdown",
   "metadata": {},
   "source": [
    "У нас сложилась интересная ситуация. На основе итоговой таблицы и диаграммы - мы замечаем интересные тенденции.\n",
    "\n",
    "У нас выделяются 2 группы сегментов:\n",
    "\n",
    "1) Топ 4: 411, 311, 211, 111 - составляют 80,8% (сразу подмечу, что меняется только r - показатель, в остальном сегменты однородны);\n",
    "\n",
    "2) Топ 5-8: 412, 312, 212, 112 - составляют 19,1% (сразу подмечу, что меняется только r - показатель, в остальном сегменты однородны).\n",
    "\n",
    "В 99% попали сегменты только с 1 покупкой и относительно небольшими суммами покупок. Различие сегментов только в том, как давно пользователи что либо заказывали. Отсюда напрашивается следующие выводы: услуги нашей компании/сервиса использую в основном для разовых покупок и на относительно небольшие суммы. Наша основная аудитория - новоприбывшие пользователи, которые не удерживаются надолго и сменяются новыми пользователями (это видно по изменению только r показателя).\n",
    "\n",
    "Однако, мы рассмотрели только количественный показатель сегментов. Надо посмотреть на топ доходных сегментов.\n"
   ]
  },
  {
   "cell_type": "code",
   "execution_count": 102,
   "metadata": {},
   "outputs": [
    {
     "name": "stdout",
     "output_type": "stream",
     "text": [
      "Доходность от сегментов и процентное соотношение\n",
      "rfm_score    monetary  monetary_percent\n",
      "      311  1235727.82              9.35\n",
      "      211  1218815.60              9.22\n",
      "      411  1209972.13              9.15\n",
      "      111  1179450.92              8.92\n",
      "      112   930866.70              7.04\n",
      "      212   925845.53              7.00\n",
      "      312   916802.20              6.94\n",
      "      412   889708.96              6.73\n",
      "      213   537328.70              4.06\n",
      "      113   536011.16              4.05\n",
      "      313   524898.00              3.97\n",
      "      413   524854.87              3.97\n",
      "      114   521690.59              3.95\n",
      "      414   514258.88              3.89\n",
      "      314   420325.59              3.18\n",
      "      214   403884.80              3.06\n"
     ]
    }
   ],
   "source": [
    "# Строем еще одну таблицу, которая будет отражать доходность сегментов и долю сегментов по доходности.\n",
    "rfm_monetary_sum_df = rfm_df.groupby('rfm_score', as_index=False) \\\n",
    "                           .agg({'monetary': 'sum'}) \\\n",
    "                           .sort_values('monetary', ascending=False)\n",
    "\n",
    "# Округляем показатель доли до 2 знаков после запятой.\n",
    "rfm_monetary_sum_df['monetary_percent'] = round((rfm_monetary_sum_df['monetary'] * 100) / rfm_monetary_sum_df['monetary'].sum(), 2)\n",
    "\n",
    "# Обнуляем индексы.\n",
    "rfm_monetary_sum_df.reset_index(drop=True, inplace=True)\n",
    "\n",
    "# Выводим таблицу, где показатели доли у сегментов больше 1 %.\n",
    "print(f'Доходность от сегментов и процентное соотношение')    \n",
    "print(rfm_monetary_sum_df.head(16).to_string(index=False))"
   ]
  },
  {
   "cell_type": "markdown",
   "metadata": {},
   "source": [
    "Построим диаграмму о доходности сегментов."
   ]
  },
  {
   "cell_type": "code",
   "execution_count": 103,
   "metadata": {},
   "outputs": [
    {
     "data": {
      "image/png": "[encoded data removed]",
      "text/plain": [
       "<Figure size 576x432 with 1 Axes>"
      ]
     },
     "metadata": {
      "needs_background": "light"
     },
     "output_type": "display_data"
    }
   ],
   "source": [
    "# Оставляем толко сегменты больше 4 % (остальные как мы заметили по таблице 1% или меньше)\n",
    "rfm_monetary_barplot_df = rfm_monetary_sum_df.loc[rfm_monetary_sum_df['monetary_percent'] > 3]\n",
    "\n",
    "plt.figure(figsize=(8, 6))\n",
    "sns.barplot(data=rfm_monetary_barplot_df, x='rfm_score', y='monetary_percent', palette='rocket')\n",
    "plt.xticks(rotation=45)\n",
    "plt.title('Распределение доходности по рангам')\n",
    "plt.xlabel('Сегмент')\n",
    "plt.ylabel('Доля %')\n",
    "plt.show()"
   ]
  },
  {
   "cell_type": "markdown",
   "metadata": {},
   "source": [
    "И снова видим интересные наблюдения. Топ 8 по доходности сегментов совпадает с топ 8 сегментов по колличеству пользователей. Их суммарный процент 64,35 %. То есть наша компания/сервис зарабатывает на потоке новых клиентов, которые достаточно быстро перестают в принципе быть нашими клиентами.\n",
    "\n",
    "Но нужно еще построить один график, но уже только по распределению рангов в monetary. По нему мы в принципе поймем не делаем ли мы ложных выводов. Напомню, что 1 - это покупки с самыми низкими суммами, 2-3 - середениа, 4 - это покупки с самими большими суммами."
   ]
  },
  {
   "cell_type": "code",
   "execution_count": 104,
   "metadata": {},
   "outputs": [
    {
     "data": {
      "image/png": "[encoded data removed]",
      "text/plain": [
       "<Figure size 504x504 with 1 Axes>"
      ]
     },
     "metadata": {
      "needs_background": "light"
     },
     "output_type": "display_data"
    }
   ],
   "source": [
    "# Готовим датафрейм для барплота.\n",
    "segments_monetary_df = rfm_df.groupby('m_rank', as_index=False) \\\n",
    "                            .agg({'monetary': 'sum'}) \\\n",
    "                            .rename(columns={'monetary': 'income_sum'})\n",
    "\n",
    "# Строим график распределения доходности.\n",
    "plt.figure(figsize=(7, 7))\n",
    "sns.barplot(data=segments_monetary_df, x='m_rank', y='income_sum', palette='rocket')\n",
    "plt.title('Распределение доходности по рангам')\n",
    "plt.xlabel('Сегмент')\n",
    "plt.ylabel('Сумма покупок')\n",
    "plt.show()"
   ]
  },
  {
   "cell_type": "markdown",
   "metadata": {},
   "source": [
    "Даже если бы мы к высоким по стоимости покупкам отнесли не только 4 ранг, но и 3, то этого все равно не хватило бы для того чтобы сравняться с самыми дешовыми покупками (1 рангом). Теперь мы точно знаем, что 1-2 ранг в monetary - составляет основную основную доходность."
   ]
  },
  {
   "cell_type": "markdown",
   "metadata": {},
   "source": [
    "## Выводы после 5-6 задания о нашей компании/сервисе."
   ]
  },
  {
   "cell_type": "markdown",
   "metadata": {},
   "source": [
    "В исследуемой нами компании/сервисе по сути стоит одна и самая серьезная проблема - удержание клиентов. Когортный анализ и rfm анализ показали, что компания по сути живет за счет потока новых клиентов, которые делают на небольшие покупки. После чего со временем попадают в 111 сегмент.\n",
    "\n",
    "Компании необходимо разработать (или доработать) систему лоялности и скидок для пользователей. Только после решения проблемы с удержанием пользователей можно двигаться в развитии данной компании. При этом нельзя терять поток новых клиентов (они составляют доход компании в настоящий момент) и завлекать разными способами.\n",
    "\n",
    "Стоит попытаться вернуть клиентов из более высокого ранга в monetary, при этом не забывать стимулировать их постоянно для совершения покупок (особые коммерческие предложения и условия)."
   ]
  }
 ],
 "metadata": {
  "kernelspec": {
   "display_name": "Python 3",
   "language": "python",
   "name": "python3"
  },
  "language_info": {
   "codemirror_mode": {
    "name": "ipython",
    "version": 3
   },
   "file_extension": ".py",
   "mimetype": "text/x-python",
   "name": "python",
   "nbconvert_exporter": "python",
   "pygments_lexer": "ipython3",
   "version": "3.7.3"
  }
 },
 "nbformat": 4,
 "nbformat_minor": 2
}
